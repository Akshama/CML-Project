{
  "nbformat": 4,
  "nbformat_minor": 0,
  "metadata": {
    "colab": {
      "provenance": []
    },
    "kernelspec": {
      "name": "python3",
      "display_name": "Python 3"
    },
    "language_info": {
      "name": "python"
    },
    "accelerator": "GPU",
    "gpuClass": "standard"
  },
  "cells": [
    {
      "cell_type": "code",
      "execution_count": 1,
      "metadata": {
        "id": "P962qwJPKdl6"
      },
      "outputs": [],
      "source": [
        "import pandas as pd\n",
        "import numpy as np\n",
        "from numpy import array,asarray,zeros\n",
        "\n",
        "import matplotlib.pyplot as plt\n",
        "%matplotlib inline\n",
        "import seaborn as sns\n",
        "\n",
        "import nltk\n",
        "import re\n",
        "from nltk.corpus import stopwords\n",
        "from nltk.stem.porter import PorterStemmer\n",
        "from nltk.corpus import stopwords\n",
        "from nltk.stem import WordNetLemmatizer\n",
        "from nltk.tokenize import word_tokenize,sent_tokenize\n",
        "from bs4 import BeautifulSoup"
      ]
    },
    {
      "cell_type": "code",
      "source": [
        "from sklearn.model_selection import train_test_split\n",
        "from sklearn import preprocessing\n",
        "from sklearn.feature_extraction.text import CountVectorizer, TfidfVectorizer\n",
        "from sklearn.metrics import confusion_matrix,classification_report\n",
        "from sklearn.metrics import plot_confusion_matrix"
      ],
      "metadata": {
        "id": "N8QP-qMlK7Ae"
      },
      "execution_count": 2,
      "outputs": []
    },
    {
      "cell_type": "code",
      "source": [
        "from keras.utils.np_utils import to_categorical \n",
        "from keras.preprocessing.text import Tokenizer\n",
        "from keras_preprocessing.sequence import pad_sequences\n",
        "from keras import Sequential\n",
        "from keras.layers import Embedding,LSTM\n",
        "from keras.models import Sequential\n",
        "from keras.layers import Dense, Activation, Flatten\n",
        "from keras.layers import Embedding\n",
        "\n",
        "import warnings\n",
        "warnings.filterwarnings('ignore')\n",
        "\n",
        "import tensorflow as tf\n",
        "\n",
        "import requests\n",
        "from io import StringIO"
      ],
      "metadata": {
        "id": "AcI7Hb4iK9EY"
      },
      "execution_count": 3,
      "outputs": []
    },
    {
      "cell_type": "code",
      "source": [
        "from sklearn.preprocessing import LabelBinarizer\n",
        "from nltk.corpus import stopwords\n",
        "from nltk.stem.porter import PorterStemmer\n",
        "from wordcloud import WordCloud,STOPWORDS\n",
        "from nltk.stem import WordNetLemmatizer\n",
        "from nltk.tokenize import word_tokenize,sent_tokenize\n",
        "from bs4 import BeautifulSoup\n",
        "import spacy\n",
        "import re,string,unicodedata\n",
        "from nltk.tokenize.toktok import ToktokTokenizer\n",
        "from nltk.stem import LancasterStemmer,WordNetLemmatizer\n",
        "from sklearn.linear_model import LogisticRegression,SGDClassifier\n",
        "from sklearn.naive_bayes import MultinomialNB\n",
        "from sklearn.svm import SVC\n",
        "from textblob import TextBlob\n",
        "from textblob import Word\n",
        "from sklearn.metrics import classification_report,confusion_matrix,accuracy_score"
      ],
      "metadata": {
        "id": "2-sYde1rK_0A"
      },
      "execution_count": 4,
      "outputs": []
    },
    {
      "cell_type": "code",
      "source": [
        "from google.colab import drive\n",
        "drive.mount('/content/drive')"
      ],
      "metadata": {
        "id": "HJ3n6W7eLZbn",
        "colab": {
          "base_uri": "https://localhost:8080/"
        },
        "outputId": "9531c59f-329a-4f3d-aaa6-7640d61a2688"
      },
      "execution_count": 5,
      "outputs": [
        {
          "output_type": "stream",
          "name": "stdout",
          "text": [
            "Mounted at /content/drive\n"
          ]
        }
      ]
    },
    {
      "cell_type": "code",
      "source": [
        "movie = pd.read_csv(\"drive/MyDrive/IMDBDataset/IMDB Dataset.csv\")"
      ],
      "metadata": {
        "id": "joAMXw3pMcRo"
      },
      "execution_count": 6,
      "outputs": []
    },
    {
      "cell_type": "code",
      "source": [
        "movie.head(25)"
      ],
      "metadata": {
        "colab": {
          "base_uri": "https://localhost:8080/",
          "height": 833
        },
        "id": "9PWih4udM71p",
        "outputId": "0332f0d5-ef76-407c-9f28-603722313140"
      },
      "execution_count": 7,
      "outputs": [
        {
          "output_type": "execute_result",
          "data": {
            "text/plain": [
              "                                               review sentiment\n",
              "0   One of the other reviewers has mentioned that ...  positive\n",
              "1   A wonderful little production. <br /><br />The...  positive\n",
              "2   I thought this was a wonderful way to spend ti...  positive\n",
              "3   Basically there's a family where a little boy ...  negative\n",
              "4   Petter Mattei's \"Love in the Time of Money\" is...  positive\n",
              "5   Probably my all-time favorite movie, a story o...  positive\n",
              "6   I sure would like to see a resurrection of a u...  positive\n",
              "7   This show was an amazing, fresh & innovative i...  negative\n",
              "8   Encouraged by the positive comments about this...  negative\n",
              "9   If you like original gut wrenching laughter yo...  positive\n",
              "10  Phil the Alien is one of those quirky films wh...  negative\n",
              "11  I saw this movie when I was about 12 when it c...  negative\n",
              "12  So im not a big fan of Boll's work but then ag...  negative\n",
              "13  The cast played Shakespeare.<br /><br />Shakes...  negative\n",
              "14  This a fantastic movie of three prisoners who ...  positive\n",
              "15  Kind of drawn in by the erotic scenes, only to...  negative\n",
              "16  Some films just simply should not be remade. T...  positive\n",
              "17  This movie made it into one of my top 10 most ...  negative\n",
              "18  I remember this film,it was the first film i h...  positive\n",
              "19  An awful film! It must have been up against so...  negative\n",
              "20  After the success of Die Hard and it's sequels...  positive\n",
              "21  I had the terrible misfortune of having to vie...  negative\n",
              "22  What an absolutely stunning movie, if you have...  positive\n",
              "23  First of all, let's get a few things straight ...  negative\n",
              "24  This was the worst movie I saw at WorldFest an...  negative"
            ],
            "text/html": [
              "\n",
              "  <div id=\"df-e644e85f-437a-4231-9dd3-964b46a9eb9f\">\n",
              "    <div class=\"colab-df-container\">\n",
              "      <div>\n",
              "<style scoped>\n",
              "    .dataframe tbody tr th:only-of-type {\n",
              "        vertical-align: middle;\n",
              "    }\n",
              "\n",
              "    .dataframe tbody tr th {\n",
              "        vertical-align: top;\n",
              "    }\n",
              "\n",
              "    .dataframe thead th {\n",
              "        text-align: right;\n",
              "    }\n",
              "</style>\n",
              "<table border=\"1\" class=\"dataframe\">\n",
              "  <thead>\n",
              "    <tr style=\"text-align: right;\">\n",
              "      <th></th>\n",
              "      <th>review</th>\n",
              "      <th>sentiment</th>\n",
              "    </tr>\n",
              "  </thead>\n",
              "  <tbody>\n",
              "    <tr>\n",
              "      <th>0</th>\n",
              "      <td>One of the other reviewers has mentioned that ...</td>\n",
              "      <td>positive</td>\n",
              "    </tr>\n",
              "    <tr>\n",
              "      <th>1</th>\n",
              "      <td>A wonderful little production. &lt;br /&gt;&lt;br /&gt;The...</td>\n",
              "      <td>positive</td>\n",
              "    </tr>\n",
              "    <tr>\n",
              "      <th>2</th>\n",
              "      <td>I thought this was a wonderful way to spend ti...</td>\n",
              "      <td>positive</td>\n",
              "    </tr>\n",
              "    <tr>\n",
              "      <th>3</th>\n",
              "      <td>Basically there's a family where a little boy ...</td>\n",
              "      <td>negative</td>\n",
              "    </tr>\n",
              "    <tr>\n",
              "      <th>4</th>\n",
              "      <td>Petter Mattei's \"Love in the Time of Money\" is...</td>\n",
              "      <td>positive</td>\n",
              "    </tr>\n",
              "    <tr>\n",
              "      <th>5</th>\n",
              "      <td>Probably my all-time favorite movie, a story o...</td>\n",
              "      <td>positive</td>\n",
              "    </tr>\n",
              "    <tr>\n",
              "      <th>6</th>\n",
              "      <td>I sure would like to see a resurrection of a u...</td>\n",
              "      <td>positive</td>\n",
              "    </tr>\n",
              "    <tr>\n",
              "      <th>7</th>\n",
              "      <td>This show was an amazing, fresh &amp; innovative i...</td>\n",
              "      <td>negative</td>\n",
              "    </tr>\n",
              "    <tr>\n",
              "      <th>8</th>\n",
              "      <td>Encouraged by the positive comments about this...</td>\n",
              "      <td>negative</td>\n",
              "    </tr>\n",
              "    <tr>\n",
              "      <th>9</th>\n",
              "      <td>If you like original gut wrenching laughter yo...</td>\n",
              "      <td>positive</td>\n",
              "    </tr>\n",
              "    <tr>\n",
              "      <th>10</th>\n",
              "      <td>Phil the Alien is one of those quirky films wh...</td>\n",
              "      <td>negative</td>\n",
              "    </tr>\n",
              "    <tr>\n",
              "      <th>11</th>\n",
              "      <td>I saw this movie when I was about 12 when it c...</td>\n",
              "      <td>negative</td>\n",
              "    </tr>\n",
              "    <tr>\n",
              "      <th>12</th>\n",
              "      <td>So im not a big fan of Boll's work but then ag...</td>\n",
              "      <td>negative</td>\n",
              "    </tr>\n",
              "    <tr>\n",
              "      <th>13</th>\n",
              "      <td>The cast played Shakespeare.&lt;br /&gt;&lt;br /&gt;Shakes...</td>\n",
              "      <td>negative</td>\n",
              "    </tr>\n",
              "    <tr>\n",
              "      <th>14</th>\n",
              "      <td>This a fantastic movie of three prisoners who ...</td>\n",
              "      <td>positive</td>\n",
              "    </tr>\n",
              "    <tr>\n",
              "      <th>15</th>\n",
              "      <td>Kind of drawn in by the erotic scenes, only to...</td>\n",
              "      <td>negative</td>\n",
              "    </tr>\n",
              "    <tr>\n",
              "      <th>16</th>\n",
              "      <td>Some films just simply should not be remade. T...</td>\n",
              "      <td>positive</td>\n",
              "    </tr>\n",
              "    <tr>\n",
              "      <th>17</th>\n",
              "      <td>This movie made it into one of my top 10 most ...</td>\n",
              "      <td>negative</td>\n",
              "    </tr>\n",
              "    <tr>\n",
              "      <th>18</th>\n",
              "      <td>I remember this film,it was the first film i h...</td>\n",
              "      <td>positive</td>\n",
              "    </tr>\n",
              "    <tr>\n",
              "      <th>19</th>\n",
              "      <td>An awful film! It must have been up against so...</td>\n",
              "      <td>negative</td>\n",
              "    </tr>\n",
              "    <tr>\n",
              "      <th>20</th>\n",
              "      <td>After the success of Die Hard and it's sequels...</td>\n",
              "      <td>positive</td>\n",
              "    </tr>\n",
              "    <tr>\n",
              "      <th>21</th>\n",
              "      <td>I had the terrible misfortune of having to vie...</td>\n",
              "      <td>negative</td>\n",
              "    </tr>\n",
              "    <tr>\n",
              "      <th>22</th>\n",
              "      <td>What an absolutely stunning movie, if you have...</td>\n",
              "      <td>positive</td>\n",
              "    </tr>\n",
              "    <tr>\n",
              "      <th>23</th>\n",
              "      <td>First of all, let's get a few things straight ...</td>\n",
              "      <td>negative</td>\n",
              "    </tr>\n",
              "    <tr>\n",
              "      <th>24</th>\n",
              "      <td>This was the worst movie I saw at WorldFest an...</td>\n",
              "      <td>negative</td>\n",
              "    </tr>\n",
              "  </tbody>\n",
              "</table>\n",
              "</div>\n",
              "      <button class=\"colab-df-convert\" onclick=\"convertToInteractive('df-e644e85f-437a-4231-9dd3-964b46a9eb9f')\"\n",
              "              title=\"Convert this dataframe to an interactive table.\"\n",
              "              style=\"display:none;\">\n",
              "        \n",
              "  <svg xmlns=\"http://www.w3.org/2000/svg\" height=\"24px\"viewBox=\"0 0 24 24\"\n",
              "       width=\"24px\">\n",
              "    <path d=\"M0 0h24v24H0V0z\" fill=\"none\"/>\n",
              "    <path d=\"M18.56 5.44l.94 2.06.94-2.06 2.06-.94-2.06-.94-.94-2.06-.94 2.06-2.06.94zm-11 1L8.5 8.5l.94-2.06 2.06-.94-2.06-.94L8.5 2.5l-.94 2.06-2.06.94zm10 10l.94 2.06.94-2.06 2.06-.94-2.06-.94-.94-2.06-.94 2.06-2.06.94z\"/><path d=\"M17.41 7.96l-1.37-1.37c-.4-.4-.92-.59-1.43-.59-.52 0-1.04.2-1.43.59L10.3 9.45l-7.72 7.72c-.78.78-.78 2.05 0 2.83L4 21.41c.39.39.9.59 1.41.59.51 0 1.02-.2 1.41-.59l7.78-7.78 2.81-2.81c.8-.78.8-2.07 0-2.86zM5.41 20L4 18.59l7.72-7.72 1.47 1.35L5.41 20z\"/>\n",
              "  </svg>\n",
              "      </button>\n",
              "      \n",
              "  <style>\n",
              "    .colab-df-container {\n",
              "      display:flex;\n",
              "      flex-wrap:wrap;\n",
              "      gap: 12px;\n",
              "    }\n",
              "\n",
              "    .colab-df-convert {\n",
              "      background-color: #E8F0FE;\n",
              "      border: none;\n",
              "      border-radius: 50%;\n",
              "      cursor: pointer;\n",
              "      display: none;\n",
              "      fill: #1967D2;\n",
              "      height: 32px;\n",
              "      padding: 0 0 0 0;\n",
              "      width: 32px;\n",
              "    }\n",
              "\n",
              "    .colab-df-convert:hover {\n",
              "      background-color: #E2EBFA;\n",
              "      box-shadow: 0px 1px 2px rgba(60, 64, 67, 0.3), 0px 1px 3px 1px rgba(60, 64, 67, 0.15);\n",
              "      fill: #174EA6;\n",
              "    }\n",
              "\n",
              "    [theme=dark] .colab-df-convert {\n",
              "      background-color: #3B4455;\n",
              "      fill: #D2E3FC;\n",
              "    }\n",
              "\n",
              "    [theme=dark] .colab-df-convert:hover {\n",
              "      background-color: #434B5C;\n",
              "      box-shadow: 0px 1px 3px 1px rgba(0, 0, 0, 0.15);\n",
              "      filter: drop-shadow(0px 1px 2px rgba(0, 0, 0, 0.3));\n",
              "      fill: #FFFFFF;\n",
              "    }\n",
              "  </style>\n",
              "\n",
              "      <script>\n",
              "        const buttonEl =\n",
              "          document.querySelector('#df-e644e85f-437a-4231-9dd3-964b46a9eb9f button.colab-df-convert');\n",
              "        buttonEl.style.display =\n",
              "          google.colab.kernel.accessAllowed ? 'block' : 'none';\n",
              "\n",
              "        async function convertToInteractive(key) {\n",
              "          const element = document.querySelector('#df-e644e85f-437a-4231-9dd3-964b46a9eb9f');\n",
              "          const dataTable =\n",
              "            await google.colab.kernel.invokeFunction('convertToInteractive',\n",
              "                                                     [key], {});\n",
              "          if (!dataTable) return;\n",
              "\n",
              "          const docLinkHtml = 'Like what you see? Visit the ' +\n",
              "            '<a target=\"_blank\" href=https://colab.research.google.com/notebooks/data_table.ipynb>data table notebook</a>'\n",
              "            + ' to learn more about interactive tables.';\n",
              "          element.innerHTML = '';\n",
              "          dataTable['output_type'] = 'display_data';\n",
              "          await google.colab.output.renderOutput(dataTable, element);\n",
              "          const docLink = document.createElement('div');\n",
              "          docLink.innerHTML = docLinkHtml;\n",
              "          element.appendChild(docLink);\n",
              "        }\n",
              "      </script>\n",
              "    </div>\n",
              "  </div>\n",
              "  "
            ]
          },
          "metadata": {},
          "execution_count": 7
        }
      ]
    },
    {
      "cell_type": "code",
      "source": [
        "movie.tail(25)"
      ],
      "metadata": {
        "colab": {
          "base_uri": "https://localhost:8080/",
          "height": 833
        },
        "id": "yinaBRJRM_bP",
        "outputId": "f9afea18-b65c-4865-8188-e9a595dda1bf"
      },
      "execution_count": 8,
      "outputs": [
        {
          "output_type": "execute_result",
          "data": {
            "text/plain": [
              "                                                  review sentiment\n",
              "49975  90 minutes of Mindy...Mindy is a tease to boyf...  negative\n",
              "49976  I saw the movie in the theater at its release,...  positive\n",
              "49977  Dog Bite Dog isn't going to be for everyone, b...  positive\n",
              "49978  Halloween is one of those movies that gets you...  positive\n",
              "49979  I saw this with high expectations. Come on, it...  negative\n",
              "49980  A stunning film of high quality.<br /><br />Ap...  positive\n",
              "49981  And I repeat, please do not see this movie! Th...  negative\n",
              "49982  To be hones, I used to like this show and watc...  negative\n",
              "49983  I loved it, having been a fan of the original ...  positive\n",
              "49984  Hello it is I Derrick Cannon and I welcome you...  negative\n",
              "49985  Imaginary Heroes is clearly the best film of t...  positive\n",
              "49986  This movie is a disgrace to the Major League F...  negative\n",
              "49987  A remake of Alejandro Amenabar's Abre los Ojos...  negative\n",
              "49988  When I first tuned in on this morning news, I ...  negative\n",
              "49989  I got this one a few weeks ago and love it! It...  positive\n",
              "49990  Lame, lame, lame!!! A 90-minute cringe-fest th...  negative\n",
              "49991  Les Visiteurs, the first movie about the medie...  negative\n",
              "49992  John Garfield plays a Marine who is blinded by...  positive\n",
              "49993  Robert Colomb has two full-time jobs. He's kno...  negative\n",
              "49994  This is your typical junk comedy.<br /><br />T...  negative\n",
              "49995  I thought this movie did a down right good job...  positive\n",
              "49996  Bad plot, bad dialogue, bad acting, idiotic di...  negative\n",
              "49997  I am a Catholic taught in parochial elementary...  negative\n",
              "49998  I'm going to have to disagree with the previou...  negative\n",
              "49999  No one expects the Star Trek movies to be high...  negative"
            ],
            "text/html": [
              "\n",
              "  <div id=\"df-b7579ea4-f544-4378-838c-f8737f75d622\">\n",
              "    <div class=\"colab-df-container\">\n",
              "      <div>\n",
              "<style scoped>\n",
              "    .dataframe tbody tr th:only-of-type {\n",
              "        vertical-align: middle;\n",
              "    }\n",
              "\n",
              "    .dataframe tbody tr th {\n",
              "        vertical-align: top;\n",
              "    }\n",
              "\n",
              "    .dataframe thead th {\n",
              "        text-align: right;\n",
              "    }\n",
              "</style>\n",
              "<table border=\"1\" class=\"dataframe\">\n",
              "  <thead>\n",
              "    <tr style=\"text-align: right;\">\n",
              "      <th></th>\n",
              "      <th>review</th>\n",
              "      <th>sentiment</th>\n",
              "    </tr>\n",
              "  </thead>\n",
              "  <tbody>\n",
              "    <tr>\n",
              "      <th>49975</th>\n",
              "      <td>90 minutes of Mindy...Mindy is a tease to boyf...</td>\n",
              "      <td>negative</td>\n",
              "    </tr>\n",
              "    <tr>\n",
              "      <th>49976</th>\n",
              "      <td>I saw the movie in the theater at its release,...</td>\n",
              "      <td>positive</td>\n",
              "    </tr>\n",
              "    <tr>\n",
              "      <th>49977</th>\n",
              "      <td>Dog Bite Dog isn't going to be for everyone, b...</td>\n",
              "      <td>positive</td>\n",
              "    </tr>\n",
              "    <tr>\n",
              "      <th>49978</th>\n",
              "      <td>Halloween is one of those movies that gets you...</td>\n",
              "      <td>positive</td>\n",
              "    </tr>\n",
              "    <tr>\n",
              "      <th>49979</th>\n",
              "      <td>I saw this with high expectations. Come on, it...</td>\n",
              "      <td>negative</td>\n",
              "    </tr>\n",
              "    <tr>\n",
              "      <th>49980</th>\n",
              "      <td>A stunning film of high quality.&lt;br /&gt;&lt;br /&gt;Ap...</td>\n",
              "      <td>positive</td>\n",
              "    </tr>\n",
              "    <tr>\n",
              "      <th>49981</th>\n",
              "      <td>And I repeat, please do not see this movie! Th...</td>\n",
              "      <td>negative</td>\n",
              "    </tr>\n",
              "    <tr>\n",
              "      <th>49982</th>\n",
              "      <td>To be hones, I used to like this show and watc...</td>\n",
              "      <td>negative</td>\n",
              "    </tr>\n",
              "    <tr>\n",
              "      <th>49983</th>\n",
              "      <td>I loved it, having been a fan of the original ...</td>\n",
              "      <td>positive</td>\n",
              "    </tr>\n",
              "    <tr>\n",
              "      <th>49984</th>\n",
              "      <td>Hello it is I Derrick Cannon and I welcome you...</td>\n",
              "      <td>negative</td>\n",
              "    </tr>\n",
              "    <tr>\n",
              "      <th>49985</th>\n",
              "      <td>Imaginary Heroes is clearly the best film of t...</td>\n",
              "      <td>positive</td>\n",
              "    </tr>\n",
              "    <tr>\n",
              "      <th>49986</th>\n",
              "      <td>This movie is a disgrace to the Major League F...</td>\n",
              "      <td>negative</td>\n",
              "    </tr>\n",
              "    <tr>\n",
              "      <th>49987</th>\n",
              "      <td>A remake of Alejandro Amenabar's Abre los Ojos...</td>\n",
              "      <td>negative</td>\n",
              "    </tr>\n",
              "    <tr>\n",
              "      <th>49988</th>\n",
              "      <td>When I first tuned in on this morning news, I ...</td>\n",
              "      <td>negative</td>\n",
              "    </tr>\n",
              "    <tr>\n",
              "      <th>49989</th>\n",
              "      <td>I got this one a few weeks ago and love it! It...</td>\n",
              "      <td>positive</td>\n",
              "    </tr>\n",
              "    <tr>\n",
              "      <th>49990</th>\n",
              "      <td>Lame, lame, lame!!! A 90-minute cringe-fest th...</td>\n",
              "      <td>negative</td>\n",
              "    </tr>\n",
              "    <tr>\n",
              "      <th>49991</th>\n",
              "      <td>Les Visiteurs, the first movie about the medie...</td>\n",
              "      <td>negative</td>\n",
              "    </tr>\n",
              "    <tr>\n",
              "      <th>49992</th>\n",
              "      <td>John Garfield plays a Marine who is blinded by...</td>\n",
              "      <td>positive</td>\n",
              "    </tr>\n",
              "    <tr>\n",
              "      <th>49993</th>\n",
              "      <td>Robert Colomb has two full-time jobs. He's kno...</td>\n",
              "      <td>negative</td>\n",
              "    </tr>\n",
              "    <tr>\n",
              "      <th>49994</th>\n",
              "      <td>This is your typical junk comedy.&lt;br /&gt;&lt;br /&gt;T...</td>\n",
              "      <td>negative</td>\n",
              "    </tr>\n",
              "    <tr>\n",
              "      <th>49995</th>\n",
              "      <td>I thought this movie did a down right good job...</td>\n",
              "      <td>positive</td>\n",
              "    </tr>\n",
              "    <tr>\n",
              "      <th>49996</th>\n",
              "      <td>Bad plot, bad dialogue, bad acting, idiotic di...</td>\n",
              "      <td>negative</td>\n",
              "    </tr>\n",
              "    <tr>\n",
              "      <th>49997</th>\n",
              "      <td>I am a Catholic taught in parochial elementary...</td>\n",
              "      <td>negative</td>\n",
              "    </tr>\n",
              "    <tr>\n",
              "      <th>49998</th>\n",
              "      <td>I'm going to have to disagree with the previou...</td>\n",
              "      <td>negative</td>\n",
              "    </tr>\n",
              "    <tr>\n",
              "      <th>49999</th>\n",
              "      <td>No one expects the Star Trek movies to be high...</td>\n",
              "      <td>negative</td>\n",
              "    </tr>\n",
              "  </tbody>\n",
              "</table>\n",
              "</div>\n",
              "      <button class=\"colab-df-convert\" onclick=\"convertToInteractive('df-b7579ea4-f544-4378-838c-f8737f75d622')\"\n",
              "              title=\"Convert this dataframe to an interactive table.\"\n",
              "              style=\"display:none;\">\n",
              "        \n",
              "  <svg xmlns=\"http://www.w3.org/2000/svg\" height=\"24px\"viewBox=\"0 0 24 24\"\n",
              "       width=\"24px\">\n",
              "    <path d=\"M0 0h24v24H0V0z\" fill=\"none\"/>\n",
              "    <path d=\"M18.56 5.44l.94 2.06.94-2.06 2.06-.94-2.06-.94-.94-2.06-.94 2.06-2.06.94zm-11 1L8.5 8.5l.94-2.06 2.06-.94-2.06-.94L8.5 2.5l-.94 2.06-2.06.94zm10 10l.94 2.06.94-2.06 2.06-.94-2.06-.94-.94-2.06-.94 2.06-2.06.94z\"/><path d=\"M17.41 7.96l-1.37-1.37c-.4-.4-.92-.59-1.43-.59-.52 0-1.04.2-1.43.59L10.3 9.45l-7.72 7.72c-.78.78-.78 2.05 0 2.83L4 21.41c.39.39.9.59 1.41.59.51 0 1.02-.2 1.41-.59l7.78-7.78 2.81-2.81c.8-.78.8-2.07 0-2.86zM5.41 20L4 18.59l7.72-7.72 1.47 1.35L5.41 20z\"/>\n",
              "  </svg>\n",
              "      </button>\n",
              "      \n",
              "  <style>\n",
              "    .colab-df-container {\n",
              "      display:flex;\n",
              "      flex-wrap:wrap;\n",
              "      gap: 12px;\n",
              "    }\n",
              "\n",
              "    .colab-df-convert {\n",
              "      background-color: #E8F0FE;\n",
              "      border: none;\n",
              "      border-radius: 50%;\n",
              "      cursor: pointer;\n",
              "      display: none;\n",
              "      fill: #1967D2;\n",
              "      height: 32px;\n",
              "      padding: 0 0 0 0;\n",
              "      width: 32px;\n",
              "    }\n",
              "\n",
              "    .colab-df-convert:hover {\n",
              "      background-color: #E2EBFA;\n",
              "      box-shadow: 0px 1px 2px rgba(60, 64, 67, 0.3), 0px 1px 3px 1px rgba(60, 64, 67, 0.15);\n",
              "      fill: #174EA6;\n",
              "    }\n",
              "\n",
              "    [theme=dark] .colab-df-convert {\n",
              "      background-color: #3B4455;\n",
              "      fill: #D2E3FC;\n",
              "    }\n",
              "\n",
              "    [theme=dark] .colab-df-convert:hover {\n",
              "      background-color: #434B5C;\n",
              "      box-shadow: 0px 1px 3px 1px rgba(0, 0, 0, 0.15);\n",
              "      filter: drop-shadow(0px 1px 2px rgba(0, 0, 0, 0.3));\n",
              "      fill: #FFFFFF;\n",
              "    }\n",
              "  </style>\n",
              "\n",
              "      <script>\n",
              "        const buttonEl =\n",
              "          document.querySelector('#df-b7579ea4-f544-4378-838c-f8737f75d622 button.colab-df-convert');\n",
              "        buttonEl.style.display =\n",
              "          google.colab.kernel.accessAllowed ? 'block' : 'none';\n",
              "\n",
              "        async function convertToInteractive(key) {\n",
              "          const element = document.querySelector('#df-b7579ea4-f544-4378-838c-f8737f75d622');\n",
              "          const dataTable =\n",
              "            await google.colab.kernel.invokeFunction('convertToInteractive',\n",
              "                                                     [key], {});\n",
              "          if (!dataTable) return;\n",
              "\n",
              "          const docLinkHtml = 'Like what you see? Visit the ' +\n",
              "            '<a target=\"_blank\" href=https://colab.research.google.com/notebooks/data_table.ipynb>data table notebook</a>'\n",
              "            + ' to learn more about interactive tables.';\n",
              "          element.innerHTML = '';\n",
              "          dataTable['output_type'] = 'display_data';\n",
              "          await google.colab.output.renderOutput(dataTable, element);\n",
              "          const docLink = document.createElement('div');\n",
              "          docLink.innerHTML = docLinkHtml;\n",
              "          element.appendChild(docLink);\n",
              "        }\n",
              "      </script>\n",
              "    </div>\n",
              "  </div>\n",
              "  "
            ]
          },
          "metadata": {},
          "execution_count": 8
        }
      ]
    },
    {
      "cell_type": "code",
      "source": [
        "movie.info()"
      ],
      "metadata": {
        "colab": {
          "base_uri": "https://localhost:8080/"
        },
        "id": "SxSU9QNnNCj5",
        "outputId": "73932de1-ef28-4ea5-df87-2190cd3edbe6"
      },
      "execution_count": 9,
      "outputs": [
        {
          "output_type": "stream",
          "name": "stdout",
          "text": [
            "<class 'pandas.core.frame.DataFrame'>\n",
            "RangeIndex: 50000 entries, 0 to 49999\n",
            "Data columns (total 2 columns):\n",
            " #   Column     Non-Null Count  Dtype \n",
            "---  ------     --------------  ----- \n",
            " 0   review     50000 non-null  object\n",
            " 1   sentiment  50000 non-null  object\n",
            "dtypes: object(2)\n",
            "memory usage: 781.4+ KB\n"
          ]
        }
      ]
    },
    {
      "cell_type": "code",
      "source": [
        "movie.info"
      ],
      "metadata": {
        "colab": {
          "base_uri": "https://localhost:8080/"
        },
        "id": "I2X8Cu_kNG8i",
        "outputId": "656b5b77-ebb3-415c-b26c-5a586a1954ef"
      },
      "execution_count": 10,
      "outputs": [
        {
          "output_type": "execute_result",
          "data": {
            "text/plain": [
              "<bound method DataFrame.info of                                                   review sentiment\n",
              "0      One of the other reviewers has mentioned that ...  positive\n",
              "1      A wonderful little production. <br /><br />The...  positive\n",
              "2      I thought this was a wonderful way to spend ti...  positive\n",
              "3      Basically there's a family where a little boy ...  negative\n",
              "4      Petter Mattei's \"Love in the Time of Money\" is...  positive\n",
              "...                                                  ...       ...\n",
              "49995  I thought this movie did a down right good job...  positive\n",
              "49996  Bad plot, bad dialogue, bad acting, idiotic di...  negative\n",
              "49997  I am a Catholic taught in parochial elementary...  negative\n",
              "49998  I'm going to have to disagree with the previou...  negative\n",
              "49999  No one expects the Star Trek movies to be high...  negative\n",
              "\n",
              "[50000 rows x 2 columns]>"
            ]
          },
          "metadata": {},
          "execution_count": 10
        }
      ]
    },
    {
      "cell_type": "code",
      "source": [
        "movie.describe()"
      ],
      "metadata": {
        "colab": {
          "base_uri": "https://localhost:8080/",
          "height": 175
        },
        "id": "RvlwAm7oNKhy",
        "outputId": "13a8c66d-9b38-4599-ddc5-3e75b932b7b3"
      },
      "execution_count": 11,
      "outputs": [
        {
          "output_type": "execute_result",
          "data": {
            "text/plain": [
              "                                                   review sentiment\n",
              "count                                               50000     50000\n",
              "unique                                              49582         2\n",
              "top     Loved today's show!!! It was a variety and not...  positive\n",
              "freq                                                    5     25000"
            ],
            "text/html": [
              "\n",
              "  <div id=\"df-05aa9e7e-d135-4347-acea-8b43c98fec3f\">\n",
              "    <div class=\"colab-df-container\">\n",
              "      <div>\n",
              "<style scoped>\n",
              "    .dataframe tbody tr th:only-of-type {\n",
              "        vertical-align: middle;\n",
              "    }\n",
              "\n",
              "    .dataframe tbody tr th {\n",
              "        vertical-align: top;\n",
              "    }\n",
              "\n",
              "    .dataframe thead th {\n",
              "        text-align: right;\n",
              "    }\n",
              "</style>\n",
              "<table border=\"1\" class=\"dataframe\">\n",
              "  <thead>\n",
              "    <tr style=\"text-align: right;\">\n",
              "      <th></th>\n",
              "      <th>review</th>\n",
              "      <th>sentiment</th>\n",
              "    </tr>\n",
              "  </thead>\n",
              "  <tbody>\n",
              "    <tr>\n",
              "      <th>count</th>\n",
              "      <td>50000</td>\n",
              "      <td>50000</td>\n",
              "    </tr>\n",
              "    <tr>\n",
              "      <th>unique</th>\n",
              "      <td>49582</td>\n",
              "      <td>2</td>\n",
              "    </tr>\n",
              "    <tr>\n",
              "      <th>top</th>\n",
              "      <td>Loved today's show!!! It was a variety and not...</td>\n",
              "      <td>positive</td>\n",
              "    </tr>\n",
              "    <tr>\n",
              "      <th>freq</th>\n",
              "      <td>5</td>\n",
              "      <td>25000</td>\n",
              "    </tr>\n",
              "  </tbody>\n",
              "</table>\n",
              "</div>\n",
              "      <button class=\"colab-df-convert\" onclick=\"convertToInteractive('df-05aa9e7e-d135-4347-acea-8b43c98fec3f')\"\n",
              "              title=\"Convert this dataframe to an interactive table.\"\n",
              "              style=\"display:none;\">\n",
              "        \n",
              "  <svg xmlns=\"http://www.w3.org/2000/svg\" height=\"24px\"viewBox=\"0 0 24 24\"\n",
              "       width=\"24px\">\n",
              "    <path d=\"M0 0h24v24H0V0z\" fill=\"none\"/>\n",
              "    <path d=\"M18.56 5.44l.94 2.06.94-2.06 2.06-.94-2.06-.94-.94-2.06-.94 2.06-2.06.94zm-11 1L8.5 8.5l.94-2.06 2.06-.94-2.06-.94L8.5 2.5l-.94 2.06-2.06.94zm10 10l.94 2.06.94-2.06 2.06-.94-2.06-.94-.94-2.06-.94 2.06-2.06.94z\"/><path d=\"M17.41 7.96l-1.37-1.37c-.4-.4-.92-.59-1.43-.59-.52 0-1.04.2-1.43.59L10.3 9.45l-7.72 7.72c-.78.78-.78 2.05 0 2.83L4 21.41c.39.39.9.59 1.41.59.51 0 1.02-.2 1.41-.59l7.78-7.78 2.81-2.81c.8-.78.8-2.07 0-2.86zM5.41 20L4 18.59l7.72-7.72 1.47 1.35L5.41 20z\"/>\n",
              "  </svg>\n",
              "      </button>\n",
              "      \n",
              "  <style>\n",
              "    .colab-df-container {\n",
              "      display:flex;\n",
              "      flex-wrap:wrap;\n",
              "      gap: 12px;\n",
              "    }\n",
              "\n",
              "    .colab-df-convert {\n",
              "      background-color: #E8F0FE;\n",
              "      border: none;\n",
              "      border-radius: 50%;\n",
              "      cursor: pointer;\n",
              "      display: none;\n",
              "      fill: #1967D2;\n",
              "      height: 32px;\n",
              "      padding: 0 0 0 0;\n",
              "      width: 32px;\n",
              "    }\n",
              "\n",
              "    .colab-df-convert:hover {\n",
              "      background-color: #E2EBFA;\n",
              "      box-shadow: 0px 1px 2px rgba(60, 64, 67, 0.3), 0px 1px 3px 1px rgba(60, 64, 67, 0.15);\n",
              "      fill: #174EA6;\n",
              "    }\n",
              "\n",
              "    [theme=dark] .colab-df-convert {\n",
              "      background-color: #3B4455;\n",
              "      fill: #D2E3FC;\n",
              "    }\n",
              "\n",
              "    [theme=dark] .colab-df-convert:hover {\n",
              "      background-color: #434B5C;\n",
              "      box-shadow: 0px 1px 3px 1px rgba(0, 0, 0, 0.15);\n",
              "      filter: drop-shadow(0px 1px 2px rgba(0, 0, 0, 0.3));\n",
              "      fill: #FFFFFF;\n",
              "    }\n",
              "  </style>\n",
              "\n",
              "      <script>\n",
              "        const buttonEl =\n",
              "          document.querySelector('#df-05aa9e7e-d135-4347-acea-8b43c98fec3f button.colab-df-convert');\n",
              "        buttonEl.style.display =\n",
              "          google.colab.kernel.accessAllowed ? 'block' : 'none';\n",
              "\n",
              "        async function convertToInteractive(key) {\n",
              "          const element = document.querySelector('#df-05aa9e7e-d135-4347-acea-8b43c98fec3f');\n",
              "          const dataTable =\n",
              "            await google.colab.kernel.invokeFunction('convertToInteractive',\n",
              "                                                     [key], {});\n",
              "          if (!dataTable) return;\n",
              "\n",
              "          const docLinkHtml = 'Like what you see? Visit the ' +\n",
              "            '<a target=\"_blank\" href=https://colab.research.google.com/notebooks/data_table.ipynb>data table notebook</a>'\n",
              "            + ' to learn more about interactive tables.';\n",
              "          element.innerHTML = '';\n",
              "          dataTable['output_type'] = 'display_data';\n",
              "          await google.colab.output.renderOutput(dataTable, element);\n",
              "          const docLink = document.createElement('div');\n",
              "          docLink.innerHTML = docLinkHtml;\n",
              "          element.appendChild(docLink);\n",
              "        }\n",
              "      </script>\n",
              "    </div>\n",
              "  </div>\n",
              "  "
            ]
          },
          "metadata": {},
          "execution_count": 11
        }
      ]
    },
    {
      "cell_type": "code",
      "source": [
        "movie.shape"
      ],
      "metadata": {
        "colab": {
          "base_uri": "https://localhost:8080/"
        },
        "id": "Gei8BoTSNPEu",
        "outputId": "4f6d7cb0-c75a-4198-f887-74285a05df9c"
      },
      "execution_count": 12,
      "outputs": [
        {
          "output_type": "execute_result",
          "data": {
            "text/plain": [
              "(50000, 2)"
            ]
          },
          "metadata": {},
          "execution_count": 12
        }
      ]
    },
    {
      "cell_type": "code",
      "source": [
        "#sentiment count\n",
        "movie['sentiment'].value_counts()"
      ],
      "metadata": {
        "colab": {
          "base_uri": "https://localhost:8080/"
        },
        "id": "6NvZKmK3NSV7",
        "outputId": "5da32711-da74-49e5-f85b-be0d76d9ca50"
      },
      "execution_count": 13,
      "outputs": [
        {
          "output_type": "execute_result",
          "data": {
            "text/plain": [
              "positive    25000\n",
              "negative    25000\n",
              "Name: sentiment, dtype: int64"
            ]
          },
          "metadata": {},
          "execution_count": 13
        }
      ]
    },
    {
      "cell_type": "code",
      "source": [
        "sns.countplot(movie.sentiment)\n",
        "plt.title('Countplot of the Sentiments', fontsize = 20, color = 'Violet')\n",
        "plt.show()"
      ],
      "metadata": {
        "colab": {
          "base_uri": "https://localhost:8080/",
          "height": 300
        },
        "id": "2AArlk_wNXcp",
        "outputId": "fd1c69ab-5bbb-4d5f-bade-3f48b85ea191"
      },
      "execution_count": 14,
      "outputs": [
        {
          "output_type": "display_data",
          "data": {
            "text/plain": [
              "<Figure size 432x288 with 1 Axes>"
            ],
            "image/png": "[encoded data removed]"
          },
          "metadata": {
            "needs_background": "light"
          }
        }
      ]
    },
    {
      "cell_type": "code",
      "source": [
        "# Here we create a function to clean the text data\n",
        "# we will use regular expressions here alot since our data dtype is string/text.\n",
        "\n",
        "def cleaning(data):\n",
        "  \n",
        "  # removing tags\n",
        "  phrase = remove_tags(data)\n",
        "  \n",
        "  # remove special characters i.e r\n",
        "  # remove anything thats not a to z or A-Z\n",
        "  \n",
        "  phrase = re.sub('[^a-zA-Z]', ' ', phrase)\n",
        "  \n",
        "  # remove multiple spaces\n",
        "  phrase = re.sub(r'\\s+', ' ',phrase)\n",
        "  \n",
        "  return phrase"
      ],
      "metadata": {
        "id": "hDlaMq3rNbmY"
      },
      "execution_count": 15,
      "outputs": []
    },
    {
      "cell_type": "code",
      "source": [
        "TAG_RE = re.compile(r'<[^>]+>')\n",
        "\n",
        "\n",
        "def remove_tags(text):\n",
        "  return TAG_RE.sub('', text)"
      ],
      "metadata": {
        "id": "RYxCnYIlNe6X"
      },
      "execution_count": 16,
      "outputs": []
    },
    {
      "cell_type": "code",
      "source": [
        "X = []\n",
        "phrases = list(movie['review'])\n",
        "for data in phrases:\n",
        "  X.append(cleaning(data))"
      ],
      "metadata": {
        "id": "Zr-h16CSNilA"
      },
      "execution_count": 17,
      "outputs": []
    },
    {
      "cell_type": "code",
      "source": [
        "X[34]"
      ],
      "metadata": {
        "colab": {
          "base_uri": "https://localhost:8080/",
          "height": 143
        },
        "id": "PlgKlMLhNqmY",
        "outputId": "6f11ee7e-3a40-4c52-a33e-a6a045d5717a"
      },
      "execution_count": 18,
      "outputs": [
        {
          "output_type": "execute_result",
          "data": {
            "text/plain": [
              "'I watched this film not really expecting much I got it in a pack of films all of which were pretty terrible in their own way for under a fiver so what could I expect and you know what I was right they were all terrible this movie has a few and a few is stretching it interesting points the occasional camcorder view is a nice touch the drummer is very like a drummer i e damned annoying and well thats about it actually the problem is that its just so boring in what I can only assume was an attempt to build tension a whole lot of nothing happens and when it does its utterly tedious I had my thumb on the fast forward button ready to press for most of the movie but gave it a go and seriously is the lead singer of the band that great looking coz they don t half mention how beautiful he is a hell of a lot I thought he looked a bit like a meercat all this and I haven t even mentioned the killer I m not even gonna go into it its just not worth explaining Anyway as far as I m concerned Star and London are just about the only reason to watch this and with the exception of London who was actually quite funny it wasn t because of their acting talent I ve certainly seen a lot worse but I ve also seen a lot better Best avoid unless your bored of watching paint dry '"
            ],
            "application/vnd.google.colaboratory.intrinsic+json": {
              "type": "string"
            }
          },
          "metadata": {},
          "execution_count": 18
        }
      ]
    },
    {
      "cell_type": "code",
      "source": [
        "train_reviews=movie.review[:40000]\n",
        "train_sentiments=movie.sentiment[:40000]\n",
        "\n",
        "#test dataset\n",
        "test_reviews=movie.review[40000:]\n",
        "test_sentiments=movie.sentiment[40000:]\n",
        "print(train_reviews.shape,train_sentiments.shape)\n",
        "print(test_reviews.shape,test_sentiments.shape)"
      ],
      "metadata": {
        "colab": {
          "base_uri": "https://localhost:8080/"
        },
        "id": "5CnydeCkNuIE",
        "outputId": "94d07f4e-540a-407a-b032-d3a6f69d6081"
      },
      "execution_count": 19,
      "outputs": [
        {
          "output_type": "stream",
          "name": "stdout",
          "text": [
            "(40000,) (40000,)\n",
            "(10000,) (10000,)\n"
          ]
        }
      ]
    },
    {
      "cell_type": "code",
      "source": [
        "y = movie['sentiment']\n",
        "\n",
        "y = np.array(list(map(lambda x: 1 if x=='positive' else 0,y)))"
      ],
      "metadata": {
        "id": "-UslBav_NvOK"
      },
      "execution_count": 20,
      "outputs": []
    },
    {
      "cell_type": "code",
      "source": [
        "X_train, X_test,y_train,y_test = train_test_split(X,y, test_size=0.2, random_state=42)"
      ],
      "metadata": {
        "id": "M-_myUiBNxPP"
      },
      "execution_count": 21,
      "outputs": []
    },
    {
      "cell_type": "code",
      "source": [
        "import tensorflow as tf\n",
        "device_name = tf.test.gpu_device_name()\n",
        "if device_name != '/device:GPU:0':\n",
        "  raise SystemError('GPU device not found')\n",
        "print('Found GPU at: {}'.format(device_name))"
      ],
      "metadata": {
        "colab": {
          "base_uri": "https://localhost:8080/"
        },
        "id": "iQzQf3MmN8UQ",
        "outputId": "b268438c-e96b-4d7d-b82a-1b22bf78583d"
      },
      "execution_count": 22,
      "outputs": [
        {
          "output_type": "stream",
          "name": "stdout",
          "text": [
            "Found GPU at: /device:GPU:0\n"
          ]
        }
      ]
    },
    {
      "cell_type": "code",
      "source": [
        "from nltk.corpus import stopwords\n",
        "nltk.download('stopwords')\n",
        "from nltk.stem.porter import PorterStemmer\n",
        "from nltk.tokenize.toktok import ToktokTokenizer\n",
        "#Tokenization of text\n",
        "tokenizer=ToktokTokenizer()\n",
        "#Setting English stopwords\n",
        "stopword_list=nltk.corpus.stopwords.words('english')\n",
        "print(stopword_list)"
      ],
      "metadata": {
        "colab": {
          "base_uri": "https://localhost:8080/"
        },
        "id": "q-d-iXoNN24F",
        "outputId": "70c867f6-b7fb-4c4e-b940-4bfafe1a7b24"
      },
      "execution_count": 23,
      "outputs": [
        {
          "output_type": "stream",
          "name": "stdout",
          "text": [
            "['i', 'me', 'my', 'myself', 'we', 'our', 'ours', 'ourselves', 'you', \"you're\", \"you've\", \"you'll\", \"you'd\", 'your', 'yours', 'yourself', 'yourselves', 'he', 'him', 'his', 'himself', 'she', \"she's\", 'her', 'hers', 'herself', 'it', \"it's\", 'its', 'itself', 'they', 'them', 'their', 'theirs', 'themselves', 'what', 'which', 'who', 'whom', 'this', 'that', \"that'll\", 'these', 'those', 'am', 'is', 'are', 'was', 'were', 'be', 'been', 'being', 'have', 'has', 'had', 'having', 'do', 'does', 'did', 'doing', 'a', 'an', 'the', 'and', 'but', 'if', 'or', 'because', 'as', 'until', 'while', 'of', 'at', 'by', 'for', 'with', 'about', 'against', 'between', 'into', 'through', 'during', 'before', 'after', 'above', 'below', 'to', 'from', 'up', 'down', 'in', 'out', 'on', 'off', 'over', 'under', 'again', 'further', 'then', 'once', 'here', 'there', 'when', 'where', 'why', 'how', 'all', 'any', 'both', 'each', 'few', 'more', 'most', 'other', 'some', 'such', 'no', 'nor', 'not', 'only', 'own', 'same', 'so', 'than', 'too', 'very', 's', 't', 'can', 'will', 'just', 'don', \"don't\", 'should', \"should've\", 'now', 'd', 'll', 'm', 'o', 're', 've', 'y', 'ain', 'aren', \"aren't\", 'couldn', \"couldn't\", 'didn', \"didn't\", 'doesn', \"doesn't\", 'hadn', \"hadn't\", 'hasn', \"hasn't\", 'haven', \"haven't\", 'isn', \"isn't\", 'ma', 'mightn', \"mightn't\", 'mustn', \"mustn't\", 'needn', \"needn't\", 'shan', \"shan't\", 'shouldn', \"shouldn't\", 'wasn', \"wasn't\", 'weren', \"weren't\", 'won', \"won't\", 'wouldn', \"wouldn't\"]\n"
          ]
        },
        {
          "output_type": "stream",
          "name": "stderr",
          "text": [
            "[nltk_data] Downloading package stopwords to /root/nltk_data...\n",
            "[nltk_data]   Unzipping corpora/stopwords.zip.\n"
          ]
        }
      ]
    },
    {
      "cell_type": "code",
      "source": [
        "from bs4 import BeautifulSoup\n",
        "#Removing the html strips\n",
        "def strip_html(text):\n",
        "    soup = BeautifulSoup(text, \"html.parser\")\n",
        "    return soup.get_text()\n",
        "\n",
        "#Removing the square brackets\n",
        "def remove_between_square_brackets(text):\n",
        "    return re.sub('\\[[^]]*\\]', '', text)\n",
        "\n",
        "#Removing the noisy text\n",
        "def denoise_text(text):\n",
        "    text = strip_html(text)\n",
        "    text = remove_between_square_brackets(text)\n",
        "    return text\n",
        "#Apply function on review column\n",
        "movie['review']=movie['review'].apply(denoise_text)\n",
        "\n",
        "#function for removing special characters\n",
        "def remove_special_characters(text, remove_digits=True):\n",
        "    pattern=r'[^a-zA-z0-9\\s]'\n",
        "    text=re.sub(pattern,'',text)\n",
        "    return text\n",
        "#Apply function on review column\n",
        "movie['review']=movie['review'].apply(remove_special_characters)"
      ],
      "metadata": {
        "id": "6_RI7jLjOI-N"
      },
      "execution_count": 24,
      "outputs": []
    },
    {
      "cell_type": "code",
      "source": [
        "def remove_special_characters(text, remove_digits=True):\n",
        "    pattern=r'[^a-zA-z0-9\\s]'\n",
        "    text=re.sub(pattern,'',text)\n",
        "    return text\n",
        "#Apply function on review column\n",
        "movie['review']=movie['review'].apply(remove_special_characters)"
      ],
      "metadata": {
        "id": "7AoGHaH8OMcm"
      },
      "execution_count": 25,
      "outputs": []
    },
    {
      "cell_type": "code",
      "source": [
        "#Stemming the text\n",
        "def simple_stemmer(text):\n",
        "    ps=nltk.porter.PorterStemmer()\n",
        "    text= ' '.join([ps.stem(word) for word in text.split()])\n",
        "    return text\n",
        "#Apply function on review column\n",
        "movie['review']=movie['review'].apply(simple_stemmer)"
      ],
      "metadata": {
        "id": "lKxnFC0-OPpq"
      },
      "execution_count": 26,
      "outputs": []
    },
    {
      "cell_type": "code",
      "source": [
        "#set stopwords to english\n",
        "stop=set(stopwords.words('english'))\n",
        "print(stop)\n",
        "\n",
        "#removing the stopwords\n",
        "def remove_stopwords(text, is_lower_case=False):\n",
        "    tokens = tokenizer.tokenize(text)\n",
        "    tokens = [token.strip() for token in tokens]\n",
        "    if is_lower_case:\n",
        "        filtered_tokens = [token for token in tokens if token not in stopword_list]\n",
        "    else:\n",
        "        filtered_tokens = [token for token in tokens if token.lower() not in stopword_list]\n",
        "    filtered_text = ' '.join(filtered_tokens)    \n",
        "    return filtered_text\n",
        "#Apply function on review column\n",
        "movie['review']=movie['review'].apply(remove_stopwords)\n"
      ],
      "metadata": {
        "colab": {
          "base_uri": "https://localhost:8080/"
        },
        "id": "S2B1YyjvOTcI",
        "outputId": "5e1b8f04-2a7c-44d5-dfb7-4a56e1b0984c"
      },
      "execution_count": 27,
      "outputs": [
        {
          "output_type": "stream",
          "name": "stdout",
          "text": [
            "{'does', 'my', 'can', \"weren't\", \"wouldn't\", 'but', 'been', 'other', 'where', 'we', 'weren', 'now', 'ourselves', 'are', 'our', 'between', 'off', 've', 'mustn', \"she's\", 'again', 'isn', 'before', 'each', 'shouldn', 'ma', 'you', 'yourselves', 'once', \"mustn't\", \"haven't\", 'yours', 'to', 'm', 'that', 'at', 'further', 'until', 'd', 'the', \"shouldn't\", \"you've\", 'she', 'out', 'who', \"doesn't\", 'will', 'during', 'there', 'couldn', 'be', 'both', \"mightn't\", 'what', 'below', 'down', 'these', 'more', 'itself', 'aren', 'with', 'wasn', \"couldn't\", 'yourself', 'few', 'of', 'myself', \"that'll\", 'after', \"needn't\", 'as', 're', 'your', \"shan't\", 'them', \"you'd\", 'because', 'hadn', 'he', 'herself', 'those', 'an', 'under', 'such', 'doesn', 's', 'their', 'him', 'hasn', 'in', \"it's\", \"should've\", 'no', 'they', 'or', \"aren't\", 'don', 'just', 'o', 'same', 'needn', 'when', 'shan', 'a', \"hasn't\", 'themselves', 'over', 'll', 'do', \"wasn't\", 'is', 'most', 'and', 'here', 'did', 'why', 'all', 'nor', 'so', 'some', 'too', 'this', 'haven', 'her', 'having', 'then', 'were', 'for', 'ain', 'if', 'doing', 'about', 'didn', 'i', 'have', 'against', 'won', \"hadn't\", 'y', 'mightn', 'very', \"don't\", 'up', 'am', 'by', 'which', 'should', 'had', 'ours', 'above', 'himself', 't', 'wouldn', 'through', 'it', \"isn't\", 'hers', 'than', 'its', 'any', \"won't\", 'from', 'how', \"you'll\", \"you're\", \"didn't\", 'was', 'theirs', 'into', 'me', 'on', 'being', 'own', 'while', 'not', 'has', 'whom', 'only', 'his'}\n"
          ]
        }
      ]
    },
    {
      "cell_type": "code",
      "source": [
        "#normalized train reviews\n",
        "norm_train_reviews=movie.review[:40000]\n",
        "norm_train_reviews[100]"
      ],
      "metadata": {
        "colab": {
          "base_uri": "https://localhost:8080/",
          "height": 89
        },
        "id": "2gMXf4u7OYBC",
        "outputId": "32230ef9-01ed-491f-8df5-2d030bbc7378"
      },
      "execution_count": 28,
      "outputs": [
        {
          "output_type": "execute_result",
          "data": {
            "text/plain": [
              "'thi short film inspir soontob full length featur spatula mad hilari piec contend similar cartoon yield multipl writer short film star edward spatula fire hi job join fight evil spoon thi premis allow funni content near begin bare present remaind featur thi film 15minut run time absorb oddbal comedi small music number unfortun much els lie plot set doesnt realli time show sure follow plot better mani highbudget hollywood film thi film worth watch least time take dont expect deep stori'"
            ],
            "application/vnd.google.colaboratory.intrinsic+json": {
              "type": "string"
            }
          },
          "metadata": {},
          "execution_count": 28
        }
      ]
    },
    {
      "cell_type": "code",
      "source": [
        "#Normalized test reviews\n",
        "norm_test_reviews=movie.review[40000:]\n",
        "norm_test_reviews[45005]"
      ],
      "metadata": {
        "colab": {
          "base_uri": "https://localhost:8080/",
          "height": 143
        },
        "id": "0snHU0GyOe-G",
        "outputId": "85048f3c-40b0-41f2-a95d-f7af9d02c4b4"
      },
      "execution_count": 29,
      "outputs": [
        {
          "output_type": "execute_result",
          "data": {
            "text/plain": [
              "'read review watch thi piec cinemat garbag took least 2 page find somebodi els didnt think thi appallingli unfunni montag wasnt acm humour 70 inde ani era thi isnt least funni set sketch comedi ive ever seen itll till come along half skit alreadi done infinit better act monti python woodi allen wa say nice piec anim last 90 second highlight thi film would still get close sum mindless drivelridden thi wast 75 minut semin comedi onli world semin realli doe mean semen scatolog humour onli world scat actual fece precursor joke onli mean thi handbook comedi tit bum odd beaver niceif pubesc boy least one hand free havent found playboy exist give break becaus wa earli 70 way sketch comedi go back least ten year prior onli way could even forgiv thi film even made wa gunpoint retro hardli sketch clown subtli pervert children may cut edg circl could actual funni come realli quit sad kept go throughout entir 75 minut sheer belief may save genuin funni skit end gave film 1 becaus wa lower scoreand onli recommend insomniac coma patientsor perhap peopl suffer lockjawtheir jaw would final drop open disbelief'"
            ],
            "application/vnd.google.colaboratory.intrinsic+json": {
              "type": "string"
            }
          },
          "metadata": {},
          "execution_count": 29
        }
      ]
    },
    {
      "cell_type": "code",
      "source": [
        "#Count vectorizer for bag of words\n",
        "cv=CountVectorizer(min_df=0,max_df=1,binary=False,ngram_range=(1,3))\n",
        "#transformed train reviews\n",
        "cv_train_reviews=cv.fit_transform(norm_train_reviews)\n",
        "#transformed test reviews\n",
        "cv_test_reviews=cv.transform(norm_test_reviews)\n",
        "\n",
        "print('BOW_cv_train:',cv_train_reviews.shape)\n",
        "print('BOW_cv_test:',cv_test_reviews.shape)"
      ],
      "metadata": {
        "colab": {
          "base_uri": "https://localhost:8080/"
        },
        "id": "zGDfY39yOhgj",
        "outputId": "1817124f-e73f-4eb1-a7f9-57cd6a99b383"
      },
      "execution_count": 30,
      "outputs": [
        {
          "output_type": "stream",
          "name": "stdout",
          "text": [
            "BOW_cv_train: (40000, 6209089)\n",
            "BOW_cv_test: (10000, 6209089)\n"
          ]
        }
      ]
    },
    {
      "cell_type": "code",
      "source": [
        "#Tfidf vectorizer\n",
        "tv=TfidfVectorizer(min_df=0,max_df=1,use_idf=True,ngram_range=(1,3))\n",
        "#transformed train reviews\n",
        "tv_train_reviews=tv.fit_transform(norm_train_reviews)\n",
        "#transformed test reviews\n",
        "tv_test_reviews=tv.transform(norm_test_reviews)\n",
        "print('Tfidf_train:',tv_train_reviews.shape)\n",
        "print('Tfidf_test:',tv_test_reviews.shape)"
      ],
      "metadata": {
        "colab": {
          "base_uri": "https://localhost:8080/"
        },
        "id": "z7iW0STPOkT1",
        "outputId": "34281fd8-543a-4e67-b1e3-822eb6f7d633"
      },
      "execution_count": 31,
      "outputs": [
        {
          "output_type": "stream",
          "name": "stdout",
          "text": [
            "Tfidf_train: (40000, 6209089)\n",
            "Tfidf_test: (10000, 6209089)\n"
          ]
        }
      ]
    },
    {
      "cell_type": "code",
      "source": [
        "#labeling the sentient data\n",
        "lb=LabelBinarizer()\n",
        "#transformed sentiment data\n",
        "sentiment_data=lb.fit_transform(movie['sentiment'])\n",
        "print(sentiment_data.shape)"
      ],
      "metadata": {
        "colab": {
          "base_uri": "https://localhost:8080/"
        },
        "id": "ALcn10a-OmB-",
        "outputId": "6d39d8bd-5479-43e6-bc53-a13b3fae5e80"
      },
      "execution_count": 32,
      "outputs": [
        {
          "output_type": "stream",
          "name": "stdout",
          "text": [
            "(50000, 1)\n"
          ]
        }
      ]
    },
    {
      "cell_type": "code",
      "source": [
        "#Spliting the sentiment data\n",
        "train_sentiments=sentiment_data[:40000]\n",
        "test_sentiments=sentiment_data[40000:]\n",
        "print(train_sentiments)\n",
        "print(test_sentiments)"
      ],
      "metadata": {
        "colab": {
          "base_uri": "https://localhost:8080/"
        },
        "id": "OKMystj8Ooe0",
        "outputId": "17d12f99-98d9-433c-bf25-e034a8ec8325"
      },
      "execution_count": 33,
      "outputs": [
        {
          "output_type": "stream",
          "name": "stdout",
          "text": [
            "[[1]\n",
            " [1]\n",
            " [1]\n",
            " ...\n",
            " [1]\n",
            " [0]\n",
            " [0]]\n",
            "[[0]\n",
            " [0]\n",
            " [0]\n",
            " ...\n",
            " [0]\n",
            " [0]\n",
            " [0]]\n"
          ]
        }
      ]
    },
    {
      "cell_type": "code",
      "source": [
        "train_reviews"
      ],
      "metadata": {
        "colab": {
          "base_uri": "https://localhost:8080/"
        },
        "id": "Wip8GyhnOpDv",
        "outputId": "0feacbe1-4576-40de-c4eb-262421dac8a4"
      },
      "execution_count": 34,
      "outputs": [
        {
          "output_type": "execute_result",
          "data": {
            "text/plain": [
              "0        one review ha mention watch 1 oz episod youll ...\n",
              "1        wonder littl product film techniqu veri unassu...\n",
              "2        thought thi wa wonder way spend time hot summe...\n",
              "3        basic famili littl boy jake think zombi hi clo...\n",
              "4        petter mattei love time money visual stun film...\n",
              "                               ...                        \n",
              "39995    thi wa marvel funni comedi great cast john rit...\n",
              "39996    plot central charact move camera closeup fact ...\n",
              "39997    thi show awesom love actor ha great stori line...\n",
              "39998    fact thi movi ha entitl success movi switzerla...\n",
              "39999    confess sever disappointedthi version way comp...\n",
              "Name: review, Length: 40000, dtype: object"
            ]
          },
          "metadata": {},
          "execution_count": 34
        }
      ]
    },
    {
      "cell_type": "code",
      "source": [
        "test_reviews"
      ],
      "metadata": {
        "colab": {
          "base_uri": "https://localhost:8080/"
        },
        "id": "UAmKQVd3Ornt",
        "outputId": "35920f83-60a0-4796-f0fe-52bff7bec54b"
      },
      "execution_count": 35,
      "outputs": [
        {
          "output_type": "execute_result",
          "data": {
            "text/plain": [
              "40000    first want say lean liber polit scale found mo...\n",
              "40001    wa excit see sitcom would hope repres indian c...\n",
              "40002    look cover read stuff entir differ type movi c...\n",
              "40003    like mani count appear denni hopper make thi c...\n",
              "40004    thi movi wa tv day didnt enjoy first georg jun...\n",
              "                               ...                        \n",
              "49995    thought thi movi right good job wasnt creativ ...\n",
              "49996    bad plot bad dialogu bad act idiot direct anno...\n",
              "49997    cathol taught parochi elementari school nun ta...\n",
              "49998    im go disagre previou comment side maltin thi ...\n",
              "49999    one expect star trek movi high art fan expect ...\n",
              "Name: review, Length: 10000, dtype: object"
            ]
          },
          "metadata": {},
          "execution_count": 35
        }
      ]
    },
    {
      "cell_type": "code",
      "source": [
        "#training the model\n",
        "mnb=MultinomialNB()\n",
        "#fitting the svm for bag of words\n",
        "mnb_bow=mnb.fit(cv_train_reviews,train_sentiments)\n",
        "print(mnb_bow)"
      ],
      "metadata": {
        "colab": {
          "base_uri": "https://localhost:8080/"
        },
        "id": "79xSWT7MOtPT",
        "outputId": "41f87db0-b732-4f28-e1a1-1c865f615216"
      },
      "execution_count": 36,
      "outputs": [
        {
          "output_type": "stream",
          "name": "stdout",
          "text": [
            "MultinomialNB()\n"
          ]
        }
      ]
    },
    {
      "cell_type": "code",
      "source": [
        "#fitting the svm for tfidf features\n",
        "mnb_tfidf=mnb.fit(tv_train_reviews,train_sentiments)\n",
        "print(mnb_tfidf)"
      ],
      "metadata": {
        "colab": {
          "base_uri": "https://localhost:8080/"
        },
        "id": "iBmh8ofROz9H",
        "outputId": "224a4349-8f9b-4f9f-c5ed-b6ea891d9436"
      },
      "execution_count": 37,
      "outputs": [
        {
          "output_type": "stream",
          "name": "stdout",
          "text": [
            "MultinomialNB()\n"
          ]
        }
      ]
    },
    {
      "cell_type": "code",
      "source": [
        "#Predicting the model for bag of words\n",
        "mnb_bow_predict=mnb.predict(cv_test_reviews)\n",
        "print(mnb_bow_predict)\n",
        "#Predicting the model for tfidf features\n",
        "mnb_tfidf_predict=mnb.predict(tv_test_reviews)\n",
        "print(mnb_tfidf_predict)"
      ],
      "metadata": {
        "colab": {
          "base_uri": "https://localhost:8080/"
        },
        "id": "7pfelFjmO87g",
        "outputId": "14faf011-9565-44c6-938f-387e8d492462"
      },
      "execution_count": 38,
      "outputs": [
        {
          "output_type": "stream",
          "name": "stdout",
          "text": [
            "[0 0 0 ... 0 1 1]\n",
            "[0 0 0 ... 0 1 1]\n"
          ]
        }
      ]
    },
    {
      "cell_type": "code",
      "source": [
        "#Accuracy score for bag of words\n",
        "mnb_bow_score=accuracy_score(test_sentiments,mnb_bow_predict)\n",
        "print(\"mnb_bow_score :\",mnb_bow_score)\n",
        "#Accuracy score for tfidf features\n",
        "mnb_tfidf_score=accuracy_score(test_sentiments,mnb_tfidf_predict)\n",
        "print(\"mnb_tfidf_score :\",mnb_tfidf_score)"
      ],
      "metadata": {
        "colab": {
          "base_uri": "https://localhost:8080/"
        },
        "id": "1k7NwgMfO-5Q",
        "outputId": "b697115a-c88e-4b35-fb2a-4c991f650a7d"
      },
      "execution_count": 39,
      "outputs": [
        {
          "output_type": "stream",
          "name": "stdout",
          "text": [
            "mnb_bow_score : 0.751\n",
            "mnb_tfidf_score : 0.7509\n"
          ]
        }
      ]
    },
    {
      "cell_type": "code",
      "source": [
        "#Classification report for bag of words \n",
        "mnb_bow_report=classification_report(test_sentiments,mnb_bow_predict,target_names=['Positive','Negative'])\n",
        "print(mnb_bow_report)\n",
        "#Classification report for tfidf features\n",
        "mnb_tfidf_report=classification_report(test_sentiments,mnb_tfidf_predict,target_names=['Positive','Negative'])\n",
        "print(mnb_tfidf_report)"
      ],
      "metadata": {
        "colab": {
          "base_uri": "https://localhost:8080/"
        },
        "id": "Pz_D_mq6PBfL",
        "outputId": "e410a527-110c-4547-acfc-2beae71e062f"
      },
      "execution_count": 40,
      "outputs": [
        {
          "output_type": "stream",
          "name": "stdout",
          "text": [
            "              precision    recall  f1-score   support\n",
            "\n",
            "    Positive       0.75      0.76      0.75      4993\n",
            "    Negative       0.75      0.75      0.75      5007\n",
            "\n",
            "    accuracy                           0.75     10000\n",
            "   macro avg       0.75      0.75      0.75     10000\n",
            "weighted avg       0.75      0.75      0.75     10000\n",
            "\n",
            "              precision    recall  f1-score   support\n",
            "\n",
            "    Positive       0.75      0.76      0.75      4993\n",
            "    Negative       0.75      0.74      0.75      5007\n",
            "\n",
            "    accuracy                           0.75     10000\n",
            "   macro avg       0.75      0.75      0.75     10000\n",
            "weighted avg       0.75      0.75      0.75     10000\n",
            "\n"
          ]
        }
      ]
    },
    {
      "cell_type": "code",
      "source": [
        "#confusion matrix for bag of words\n",
        "cm_bow=confusion_matrix(test_sentiments,mnb_bow_predict,labels=[1,0])\n",
        "print(cm_bow)\n",
        "#confusion matrix for tfidf features\n",
        "cm_tfidf=confusion_matrix(test_sentiments,mnb_tfidf_predict,labels=[1,0])\n",
        "print(cm_tfidf)"
      ],
      "metadata": {
        "colab": {
          "base_uri": "https://localhost:8080/"
        },
        "id": "sjlDb-8aPDrJ",
        "outputId": "345c839c-1121-4f02-97c0-997eed4bfa92"
      },
      "execution_count": 41,
      "outputs": [
        {
          "output_type": "stream",
          "name": "stdout",
          "text": [
            "[[3736 1271]\n",
            " [1219 3774]]\n",
            "[[3729 1278]\n",
            " [1213 3780]]\n"
          ]
        }
      ]
    },
    {
      "cell_type": "code",
      "source": [
        "# The tokenizer module creates a word to index dictionary.\n",
        "# Each word is used as key while the corresponding unique index,\n",
        "# is used as the value for the key.\n",
        "\n",
        "tokenizer = Tokenizer(num_words=5000)\n",
        "tokenizer.fit_on_texts(X_train)\n",
        " \n",
        "X_train = tokenizer.texts_to_sequences(X_train)\n",
        "X_test = tokenizer.texts_to_sequences(X_test)\n"
      ],
      "metadata": {
        "id": "g6TjcUWaPPFi"
      },
      "execution_count": 42,
      "outputs": []
    },
    {
      "cell_type": "code",
      "source": [
        "# Assessing the length of sentences in the reviews\n",
        "\n",
        "lengths = [len(i) for i in X_train+X_test]\n",
        "\n",
        "print(f'Max length of sentence: {max(lengths)}')\n",
        "print(f'Average length of sentence: {np.mean(lengths)}')"
      ],
      "metadata": {
        "colab": {
          "base_uri": "https://localhost:8080/"
        },
        "id": "u1JemJA1PZKZ",
        "outputId": "d6ec5499-5cc2-491d-8aed-6eb5a8dff258"
      },
      "execution_count": 43,
      "outputs": [
        {
          "output_type": "stream",
          "name": "stdout",
          "text": [
            "Max length of sentence: 2117\n",
            "Average length of sentence: 212.34318\n"
          ]
        }
      ]
    },
    {
      "cell_type": "code",
      "source": [
        "# Using seaborn to plot the sentence length\n",
        "# specifying the figure size\n",
        "# Labeling the title, x axis and y axis\n",
        "# Displaying the chart\n",
        "\n",
        "plt.figure(figsize = (8,5), dpi = 100)\n",
        "sns.distplot(lengths, color = 'brown')\n",
        "plt.title('Histogram: Number of words in sentences', fontsize = 15, color = 'Blue')\n",
        "plt.ylabel('Number of reviews')\n",
        "plt.xlabel('Number of words')\n",
        "plt.show()\n"
      ],
      "metadata": {
        "colab": {
          "base_uri": "https://localhost:8080/",
          "height": 482
        },
        "id": "MBgO7dbkPbTm",
        "outputId": "c0e08d6a-e533-4728-c58c-736a0ed400c3"
      },
      "execution_count": 44,
      "outputs": [
        {
          "output_type": "display_data",
          "data": {
            "text/plain": [
              "<Figure size 800x500 with 1 Axes>"
            ],
            "image/png": "[encoded data removed]"
          },
          "metadata": {
            "needs_background": "light"
          }
        }
      ]
    },
    {
      "cell_type": "code",
      "source": [
        "# We will set a maximum size of each list to 100\n",
        "# The lists with > 100 will truncated.\n",
        "# Lists with < 100 will be added 0 till the maximum length.\n",
        "# This process is called padding\n",
        "\n",
        "# The code below will find the vocabulary size and then perfom Padding \n",
        "# on both X_train and X_test\n",
        "\n",
        "# tokenizer.word_index\n",
        "\n",
        "vocab_size  = len(tokenizer.word_index)+ 1\n",
        "\n",
        "maxlength = 100\n",
        "\n",
        "X_train = pad_sequences(X_train, padding=\"post\", maxlen=maxlength)\n",
        "X_test = pad_sequences(X_test, padding=\"post\", maxlen=maxlength)"
      ],
      "metadata": {
        "id": "wj2efRh7Pdti"
      },
      "execution_count": 45,
      "outputs": []
    },
    {
      "cell_type": "code",
      "source": [
        "len(X_train[2])"
      ],
      "metadata": {
        "colab": {
          "base_uri": "https://localhost:8080/"
        },
        "id": "gTGg_iNmPgCm",
        "outputId": "0aa5c79b-1367-4ddc-801a-794b08c1ade6"
      },
      "execution_count": 46,
      "outputs": [
        {
          "output_type": "execute_result",
          "data": {
            "text/plain": [
              "100"
            ]
          },
          "metadata": {},
          "execution_count": 46
        }
      ]
    },
    {
      "cell_type": "code",
      "source": [
        "vocab_size"
      ],
      "metadata": {
        "colab": {
          "base_uri": "https://localhost:8080/"
        },
        "id": "5eoMEgSEPi74",
        "outputId": "7acd8f9b-546f-469b-d489-032708bbf69d"
      },
      "execution_count": 47,
      "outputs": [
        {
          "output_type": "execute_result",
          "data": {
            "text/plain": [
              "92547"
            ]
          },
          "metadata": {},
          "execution_count": 47
        }
      ]
    },
    {
      "cell_type": "code",
      "source": [
        "embedding_dictionary = dict()\n",
        "\n",
        "glove_file = open('drive/MyDrive/IMDBDataset/glove.6B.100d.txt', encoding=\"utf8\")\n",
        "\n",
        "for line in glove_file:\n",
        "  record = line.split()\n",
        "  word = record[0]\n",
        "  dimensions = asarray(record [1:], dtype=\"float32\")\n",
        "  embedding_dictionary [word] = dimensions\n",
        "glove_file.close()"
      ],
      "metadata": {
        "id": "WxlsXY9gUCy3"
      },
      "execution_count": 48,
      "outputs": []
    },
    {
      "cell_type": "code",
      "source": [
        "embedding_matrix  = zeros((vocab_size, 100))\n",
        "\n",
        "for word, index in tokenizer.word_index.items():\n",
        "  \n",
        "  embedding_vector = embedding_dictionary.get(word)\n",
        "  \n",
        "  if embedding_vector  is not None:\n",
        "    \n",
        "    embedding_matrix[index] = embedding_vector"
      ],
      "metadata": {
        "id": "YYzEVPSRUOTP"
      },
      "execution_count": 49,
      "outputs": []
    },
    {
      "cell_type": "code",
      "source": [
        "embedding_vector"
      ],
      "metadata": {
        "colab": {
          "base_uri": "https://localhost:8080/"
        },
        "id": "d8228FRbURVN",
        "outputId": "6d471ff3-14f4-405a-e244-28781968f152"
      },
      "execution_count": 50,
      "outputs": [
        {
          "output_type": "execute_result",
          "data": {
            "text/plain": [
              "array([ 0.99882  ,  0.044    ,  0.58508  ,  0.96     ,  0.098084 ,\n",
              "       -0.0022934, -0.1695   ,  1.1139   , -0.15384  ,  0.802    ,\n",
              "        1.347    ,  0.35911  , -0.63915  , -1.2736   , -0.69913  ,\n",
              "       -0.2875   ,  0.38705  , -0.11684  ,  0.31795  , -1.5145   ,\n",
              "        0.5244   , -0.77148  ,  0.2228   , -0.22528  ,  0.37621  ,\n",
              "       -0.19916  ,  0.40378  , -0.87357  , -0.29921  , -0.26723  ,\n",
              "        0.42806  , -0.59294  ,  0.422    ,  0.22028  , -0.0070494,\n",
              "        0.63873  ,  0.7914   ,  0.40717  ,  0.23863  , -0.24061  ,\n",
              "        0.31657  ,  0.021292 , -0.3244   , -0.70151  ,  0.33481  ,\n",
              "        0.24906  , -0.37085  , -0.27512  ,  0.080021 ,  0.71951  ,\n",
              "       -0.36113  ,  0.035023 ,  0.24478  , -1.0278   , -0.23183  ,\n",
              "       -0.42703  , -0.26383  ,  0.44428  ,  0.5014   ,  0.061515 ,\n",
              "       -0.42084  ,  0.43479  ,  0.51835  , -0.20161  , -0.47988  ,\n",
              "       -0.22617  ,  1.1975   , -0.27753  ,  1.2086   ,  1.0786   ,\n",
              "       -0.41692  ,  0.81516  , -1.3145   , -0.48762  , -0.44492  ,\n",
              "       -1.4444   ,  0.56115  ,  0.39099  ,  0.23039  , -0.43358  ,\n",
              "       -0.10358  ,  0.36753  , -0.19001  , -1.242    ,  0.67909  ,\n",
              "        0.38199  , -0.38565  ,  0.03242  , -0.23852  ,  0.52766  ,\n",
              "       -0.60865  ,  0.052019 ,  0.3653   ,  0.30083  , -0.34391  ,\n",
              "        0.33687  ,  1.4247   , -0.54869  ,  0.15141  ,  1.3688   ],\n",
              "      dtype=float32)"
            ]
          },
          "metadata": {},
          "execution_count": 50
        }
      ]
    },
    {
      "cell_type": "code",
      "source": [
        "embedding_matrix"
      ],
      "metadata": {
        "colab": {
          "base_uri": "https://localhost:8080/"
        },
        "id": "oAjb9w8wUTHN",
        "outputId": "78e49686-ae9e-47f8-b037-6b2668665207"
      },
      "execution_count": 51,
      "outputs": [
        {
          "output_type": "execute_result",
          "data": {
            "text/plain": [
              "array([[ 0.        ,  0.        ,  0.        , ...,  0.        ,\n",
              "         0.        ,  0.        ],\n",
              "       [-0.038194  , -0.24487001,  0.72812003, ..., -0.1459    ,\n",
              "         0.82779998,  0.27061999],\n",
              "       [-0.071953  ,  0.23127   ,  0.023731  , ..., -0.71894997,\n",
              "         0.86894   ,  0.19539   ],\n",
              "       ...,\n",
              "       [ 0.        ,  0.        ,  0.        , ...,  0.        ,\n",
              "         0.        ,  0.        ],\n",
              "       [ 0.37771001,  0.22946   , -0.30311   , ..., -0.33610001,\n",
              "         0.02637   , -0.72302002],\n",
              "       [ 0.99882001,  0.044     ,  0.58508003, ..., -0.54869002,\n",
              "         0.15141   ,  1.36880004]])"
            ]
          },
          "metadata": {},
          "execution_count": 51
        }
      ]
    },
    {
      "cell_type": "code",
      "source": [
        "from keras.layers.core import Activation, Dropout, Dense\n",
        "from keras.layers import Flatten\n",
        "from keras.layers import MaxPooling1D,GlobalAveragePooling1D,Conv1D,LSTM"
      ],
      "metadata": {
        "id": "fCGe2F70Vupl"
      },
      "execution_count": 52,
      "outputs": []
    },
    {
      "cell_type": "code",
      "source": [
        "model = Sequential()\n",
        "\n",
        "embedding_layer = Embedding(vocab_size, 100, weights=[embedding_matrix], input_length=maxlength , trainable=False)\n",
        "model.add(embedding_layer)\n",
        "model.add(Conv1D(64, 3, activation=\"relu\"))\n",
        "model.add(Conv1D(32, 3, activation=\"relu\"))\n",
        "model.add(MaxPooling1D(3))\n",
        "model.add(Conv1D(16, 3, activation=\"relu\"))\n",
        "model.add(Conv1D(8, 3, activation=\"relu\"))\n",
        "model.add(GlobalAveragePooling1D())\n",
        "model.add(Dense(1,  activation=\"sigmoid\"))   \n",
        "\n",
        "'''\n",
        "model.add(Conv1D(128, 5, activation='relu'))\n",
        "model.add(GlobalMaxPooling1D())\n",
        "model.add(Dropout(0.2)),\n",
        "model.add(Dense(1, activation='sigmoid'))'''\n"
      ],
      "metadata": {
        "colab": {
          "base_uri": "https://localhost:8080/",
          "height": 35
        },
        "id": "RozIOnZHUufj",
        "outputId": "ea873d31-1743-4b70-ab1b-eda8491e2991"
      },
      "execution_count": 53,
      "outputs": [
        {
          "output_type": "execute_result",
          "data": {
            "text/plain": [
              "\"\\nmodel.add(Conv1D(128, 5, activation='relu'))\\nmodel.add(GlobalMaxPooling1D())\\nmodel.add(Dropout(0.2)),\\nmodel.add(Dense(1, activation='sigmoid'))\""
            ],
            "application/vnd.google.colaboratory.intrinsic+json": {
              "type": "string"
            }
          },
          "metadata": {},
          "execution_count": 53
        }
      ]
    },
    {
      "cell_type": "code",
      "source": [
        "model.compile(optimizer='adam', loss='binary_crossentropy', metrics=['acc'])"
      ],
      "metadata": {
        "id": "_fxJlByDVdYn"
      },
      "execution_count": 54,
      "outputs": []
    },
    {
      "cell_type": "code",
      "source": [
        "print(model.summary())"
      ],
      "metadata": {
        "colab": {
          "base_uri": "https://localhost:8080/"
        },
        "id": "9Aw-DSvsWGlA",
        "outputId": "c305010e-6768-497a-e2ac-713d3aca27ec"
      },
      "execution_count": 55,
      "outputs": [
        {
          "output_type": "stream",
          "name": "stdout",
          "text": [
            "Model: \"sequential\"\n",
            "_________________________________________________________________\n",
            " Layer (type)                Output Shape              Param #   \n",
            "=================================================================\n",
            " embedding (Embedding)       (None, 100, 100)          9254700   \n",
            "                                                                 \n",
            " conv1d (Conv1D)             (None, 98, 64)            19264     \n",
            "                                                                 \n",
            " conv1d_1 (Conv1D)           (None, 96, 32)            6176      \n",
            "                                                                 \n",
            " max_pooling1d (MaxPooling1D  (None, 32, 32)           0         \n",
            " )                                                               \n",
            "                                                                 \n",
            " conv1d_2 (Conv1D)           (None, 30, 16)            1552      \n",
            "                                                                 \n",
            " conv1d_3 (Conv1D)           (None, 28, 8)             392       \n",
            "                                                                 \n",
            " global_average_pooling1d (G  (None, 8)                0         \n",
            " lobalAveragePooling1D)                                          \n",
            "                                                                 \n",
            " dense (Dense)               (None, 1)                 9         \n",
            "                                                                 \n",
            "=================================================================\n",
            "Total params: 9,282,093\n",
            "Trainable params: 27,393\n",
            "Non-trainable params: 9,254,700\n",
            "_________________________________________________________________\n",
            "None\n"
          ]
        }
      ]
    },
    {
      "cell_type": "code",
      "source": [
        "history = model.fit(X_train, y_train, batch_size=128, epochs=1, verbose=1, validation_split=0.2)\n",
        "\n",
        "score = model.evaluate(X_test, y_test, verbose=1)"
      ],
      "metadata": {
        "colab": {
          "base_uri": "https://localhost:8080/"
        },
        "id": "Qsdw15w6WKPD",
        "outputId": "af5f50b2-08d8-48c1-d32c-791741b44f91"
      },
      "execution_count": 56,
      "outputs": [
        {
          "output_type": "stream",
          "name": "stdout",
          "text": [
            "250/250 [==============================] - 9s 6ms/step - loss: 0.5803 - acc: 0.6871 - val_loss: 0.4883 - val_acc: 0.7617\n",
            "313/313 [==============================] - 1s 3ms/step - loss: 0.4919 - acc: 0.7663\n"
          ]
        }
      ]
    },
    {
      "cell_type": "code",
      "source": [
        "history = model.fit(X_train, y_train, batch_size=128, epochs=10, verbose=1, validation_split=0.2)\n",
        "\n",
        "score = model.evaluate(X_test, y_test, verbose=1)"
      ],
      "metadata": {
        "colab": {
          "base_uri": "https://localhost:8080/"
        },
        "id": "i0gu0P_qWcGp",
        "outputId": "ca9eefb7-9469-41fc-907c-ad8dfb1fff91"
      },
      "execution_count": 57,
      "outputs": [
        {
          "output_type": "stream",
          "name": "stdout",
          "text": [
            "Epoch 1/20\n",
            "250/250 [==============================] - 1s 5ms/step - loss: 0.4660 - acc: 0.7800 - val_loss: 0.4388 - val_acc: 0.8010\n",
            "Epoch 2/20\n",
            "250/250 [==============================] - 1s 5ms/step - loss: 0.4298 - acc: 0.7993 - val_loss: 0.4122 - val_acc: 0.8129\n",
            "Epoch 3/20\n",
            "250/250 [==============================] - 1s 5ms/step - loss: 0.4062 - acc: 0.8137 - val_loss: 0.3997 - val_acc: 0.8195\n",
            "Epoch 4/20\n",
            "250/250 [==============================] - 1s 5ms/step - loss: 0.3925 - acc: 0.8207 - val_loss: 0.3881 - val_acc: 0.8235\n",
            "Epoch 5/20\n",
            "250/250 [==============================] - 1s 5ms/step - loss: 0.3717 - acc: 0.8345 - val_loss: 0.3910 - val_acc: 0.8244\n",
            "Epoch 6/20\n",
            "250/250 [==============================] - 1s 5ms/step - loss: 0.3614 - acc: 0.8367 - val_loss: 0.3891 - val_acc: 0.8216\n",
            "Epoch 7/20\n",
            "250/250 [==============================] - 2s 8ms/step - loss: 0.3491 - acc: 0.8436 - val_loss: 0.3801 - val_acc: 0.8284\n",
            "Epoch 8/20\n",
            "250/250 [==============================] - 2s 9ms/step - loss: 0.3468 - acc: 0.8439 - val_loss: 0.3886 - val_acc: 0.8267\n",
            "Epoch 9/20\n",
            "250/250 [==============================] - 1s 5ms/step - loss: 0.3337 - acc: 0.8547 - val_loss: 0.3722 - val_acc: 0.8335\n",
            "Epoch 10/20\n",
            "250/250 [==============================] - 1s 5ms/step - loss: 0.3157 - acc: 0.8633 - val_loss: 0.3825 - val_acc: 0.8321\n",
            "Epoch 11/20\n",
            "250/250 [==============================] - 1s 5ms/step - loss: 0.3018 - acc: 0.8704 - val_loss: 0.3781 - val_acc: 0.8339\n",
            "Epoch 12/20\n",
            "250/250 [==============================] - 1s 5ms/step - loss: 0.2981 - acc: 0.8712 - val_loss: 0.3862 - val_acc: 0.8305\n",
            "Epoch 13/20\n",
            "250/250 [==============================] - 1s 5ms/step - loss: 0.2799 - acc: 0.8809 - val_loss: 0.3998 - val_acc: 0.8288\n",
            "Epoch 14/20\n",
            "250/250 [==============================] - 1s 6ms/step - loss: 0.2719 - acc: 0.8863 - val_loss: 0.3856 - val_acc: 0.8351\n",
            "Epoch 15/20\n",
            "250/250 [==============================] - 1s 5ms/step - loss: 0.2573 - acc: 0.8916 - val_loss: 0.3922 - val_acc: 0.8305\n",
            "Epoch 16/20\n",
            "250/250 [==============================] - 1s 5ms/step - loss: 0.2483 - acc: 0.8973 - val_loss: 0.3992 - val_acc: 0.8313\n",
            "Epoch 17/20\n",
            "250/250 [==============================] - 1s 5ms/step - loss: 0.2410 - acc: 0.8996 - val_loss: 0.4143 - val_acc: 0.8332\n",
            "Epoch 18/20\n",
            "250/250 [==============================] - 1s 5ms/step - loss: 0.2205 - acc: 0.9107 - val_loss: 0.4145 - val_acc: 0.8342\n",
            "Epoch 19/20\n",
            "250/250 [==============================] - 1s 5ms/step - loss: 0.2117 - acc: 0.9141 - val_loss: 0.4272 - val_acc: 0.8276\n",
            "Epoch 20/20\n",
            "250/250 [==============================] - 1s 5ms/step - loss: 0.2026 - acc: 0.9185 - val_loss: 0.4527 - val_acc: 0.8280\n",
            "313/313 [==============================] - 1s 3ms/step - loss: 0.4375 - acc: 0.8293\n"
          ]
        }
      ]
    },
    {
      "cell_type": "code",
      "source": [
        "#y_pred = model.predict_classes(X_test)\n",
        "y_pred = (model.predict(X_test) > 0.5).astype(\"int32\")\n",
        "\n",
        "y_pred\n",
        "\n",
        "# printing the classifica\n",
        "\n",
        "print(classification_report(y_test, y_pred))"
      ],
      "metadata": {
        "colab": {
          "base_uri": "https://localhost:8080/"
        },
        "id": "FYt11Y5RWgHa",
        "outputId": "7a9fc15e-2dfe-47fa-ad31-742602eec601"
      },
      "execution_count": 58,
      "outputs": [
        {
          "output_type": "stream",
          "name": "stdout",
          "text": [
            "313/313 [==============================] - 1s 2ms/step\n",
            "              precision    recall  f1-score   support\n",
            "\n",
            "           0       0.86      0.78      0.82      4961\n",
            "           1       0.80      0.88      0.84      5039\n",
            "\n",
            "    accuracy                           0.83     10000\n",
            "   macro avg       0.83      0.83      0.83     10000\n",
            "weighted avg       0.83      0.83      0.83     10000\n",
            "\n"
          ]
        }
      ]
    },
    {
      "cell_type": "code",
      "source": [
        "score"
      ],
      "metadata": {
        "colab": {
          "base_uri": "https://localhost:8080/"
        },
        "id": "9Hgye8G0WicJ",
        "outputId": "4e4b2d3c-c60b-479c-bb57-5676d392a4be"
      },
      "execution_count": 59,
      "outputs": [
        {
          "output_type": "execute_result",
          "data": {
            "text/plain": [
              "[0.43746820092201233, 0.8292999863624573]"
            ]
          },
          "metadata": {},
          "execution_count": 59
        }
      ]
    },
    {
      "cell_type": "code",
      "source": [
        "print(\"Test Score:\", score[0])\n",
        "print(\"Test Accuracy:\", score[1])"
      ],
      "metadata": {
        "colab": {
          "base_uri": "https://localhost:8080/"
        },
        "id": "sWLuG2qsWi6K",
        "outputId": "bcead414-c8bd-4f2c-ab97-76c940b13523"
      },
      "execution_count": 60,
      "outputs": [
        {
          "output_type": "stream",
          "name": "stdout",
          "text": [
            "Test Score: 0.43746820092201233\n",
            "Test Accuracy: 0.8292999863624573\n"
          ]
        }
      ]
    },
    {
      "cell_type": "code",
      "source": [
        "#word cloud for positive review words\n",
        "plt.figure(figsize=(10,10))\n",
        "positive_text=norm_train_reviews[1]\n",
        "WC=WordCloud(width=1500,height=1000,max_words=500,min_font_size=5)\n",
        "positive_words=WC.generate(positive_text)\n",
        "plt.imshow(positive_words,interpolation='bilinear')\n",
        "plt.show"
      ],
      "metadata": {
        "colab": {
          "base_uri": "https://localhost:8080/",
          "height": 442
        },
        "id": "tVrulvOTWm3M",
        "outputId": "da39ecd4-4a4e-4bfb-fd0d-3f013f56c8f9"
      },
      "execution_count": 61,
      "outputs": [
        {
          "output_type": "execute_result",
          "data": {
            "text/plain": [
              "<function matplotlib.pyplot.show(*args, **kw)>"
            ]
          },
          "metadata": {},
          "execution_count": 61
        },
        {
          "output_type": "display_data",
          "data": {
            "text/plain": [
              "<Figure size 720x720 with 1 Axes>"
            ],
            "image/png": "[encoded data removed]"
          },
          "metadata": {
            "needs_background": "light"
          }
        }
      ]
    },
    {
      "cell_type": "code",
      "source": [
        "#Word cloud for negative review words\n",
        "plt.figure(figsize=(10,10))\n",
        "negative_text=norm_train_reviews[8]\n",
        "WC=WordCloud(width=1000,height=500,max_words=500,min_font_size=5)\n",
        "negative_words=WC.generate(negative_text)\n",
        "plt.imshow(negative_words,interpolation='bilinear')\n",
        "plt.show\n"
      ],
      "metadata": {
        "colab": {
          "base_uri": "https://localhost:8080/",
          "height": 349
        },
        "id": "J9Lt0w1WWox3",
        "outputId": "c8441a25-3d24-44f8-accd-de37204ed780"
      },
      "execution_count": 62,
      "outputs": [
        {
          "output_type": "execute_result",
          "data": {
            "text/plain": [
              "<function matplotlib.pyplot.show(*args, **kw)>"
            ]
          },
          "metadata": {},
          "execution_count": 62
        },
        {
          "output_type": "display_data",
          "data": {
            "text/plain": [
              "<Figure size 720x720 with 1 Axes>"
            ],
            "image/png": "[encoded data removed]"
          },
          "metadata": {
            "needs_background": "light"
          }
        }
      ]
    },
    {
      "cell_type": "code",
      "source": [
        "# Creating a random review generator\n",
        "# Creating a variable for the randomly generated movie review\n",
        "# printing the random review\n",
        "\n",
        "index = np.random.randint(X_train.shape[0])\n",
        "\n",
        "s_instance = X[index]\n",
        "\n",
        "print(s_instance)\n"
      ],
      "metadata": {
        "colab": {
          "base_uri": "https://localhost:8080/"
        },
        "id": "KXy4w_CxWuPQ",
        "outputId": "d0870e53-4f40-45eb-ef10-319ede14554f"
      },
      "execution_count": 63,
      "outputs": [
        {
          "output_type": "stream",
          "name": "stdout",
          "text": [
            "It was by accident that I was scanning the TV channels and found this wonderful film about two beautiful human beings who become attracted to each other in a very innocent and virgin like approach to each other Ethan Hawke Jesse Tape and Julie Delpy Celine ER TV Series Nicole This gal and guy will warm your very heart and soul and make you think deeply into your past relationships and how you really wish you had followed your hearts strings with a guy or gal you deep down loved and lost track of over the years Jesse and Celine have great conversation and deep eye contact with a great magnetic explosion between the two of them I am looking forward to the SEQUEL to this film in and if you have viewed this film you will feel the same way \n"
          ]
        }
      ]
    },
    {
      "cell_type": "code",
      "source": [
        "# Here we want to predict the random review as either poitive or negative using the created model\n",
        "# So, the review will be preprocessed similarly to what we did in the dataset before training i.e,\n",
        "# the words will be converted to integers and the fitted to a maximum length of 100.\n",
        "# The empty list will store the values.\n",
        "# Then we create a for loop to iterate through the list \n",
        "#\n",
        "\n",
        "s_instance = tokenizer.texts_to_sequences(s_instance)\n",
        "\n",
        "flat_list = []\n",
        "\n",
        "for sublist in s_instance:\n",
        "  for item in sublist:\n",
        "    flat_list.append(item)\n",
        "    \n",
        "flat_list = [flat_list]\n",
        "\n",
        "s_instance = pad_sequences(flat_list, padding = 'post', maxlen = maxlength)\n",
        "\n",
        "model.predict(s_instance)"
      ],
      "metadata": {
        "colab": {
          "base_uri": "https://localhost:8080/"
        },
        "id": "TFFQ70SUWv91",
        "outputId": "9b129221-dfb1-4efe-8382-1b0654bdde2e"
      },
      "execution_count": 64,
      "outputs": [
        {
          "output_type": "stream",
          "name": "stdout",
          "text": [
            "1/1 [==============================] - 0s 111ms/step\n"
          ]
        },
        {
          "output_type": "execute_result",
          "data": {
            "text/plain": [
              "array([[0.9845748]], dtype=float32)"
            ]
          },
          "metadata": {},
          "execution_count": 64
        }
      ]
    },
    {
      "cell_type": "code",
      "source": [
        "# Building the model \n",
        "# Create an embedding layer by specifying the parameters we created earlier\n",
        "# Creating two Recurrent neural network layers\n",
        "# Here we will use two LTSM (Long Term Short Term Memory) layers\n",
        "# Bidirectional means the RNN processes sequence from start to end,and also backwards\n",
        "# This makes the model perform better.\n",
        "# We added another hidden layer and included an activation function as relu.\n",
        "# Here we added Dropout to prevent the model from over fitting\n",
        "# Dropout randomly removes some neurons in the hidden layers\n",
        "# At the end we add a dense layer with sigmoid activation function.\n",
        "\n",
        "model1 = tf.keras.Sequential([\n",
        "    tf.keras.layers.Embedding(vocab_size, 100,\n",
        "                              weights=[embedding_matrix], \n",
        "                              input_length=maxlength, trainable=False),\n",
        "    \n",
        "    tf.keras.layers.Bidirectional(tf.keras.layers.LSTM(100, dropout=0.3, return_sequences = True)),\n",
        "    tf.keras.layers.Bidirectional(tf.keras.layers.LSTM(100, dropout=0.3, return_sequences = True)),\n",
        "    tf.keras.layers.Conv1D(100, 5, activation='relu'),\n",
        "    tf.keras.layers.GlobalMaxPool1D(),\n",
        "    tf.keras.layers.Dense(16, activation='relu'),        \n",
        "    tf.keras.layers.Dense(1, activation='sigmoid')])\n"
      ],
      "metadata": {
        "id": "wg0EPR91YJfZ"
      },
      "execution_count": 65,
      "outputs": []
    },
    {
      "cell_type": "code",
      "source": [
        "model1.compile(optimizer='adam', loss='binary_crossentropy', metrics=['acc'])"
      ],
      "metadata": {
        "id": "6o93oralYF7v"
      },
      "execution_count": 66,
      "outputs": []
    },
    {
      "cell_type": "code",
      "source": [
        "model1.summary()"
      ],
      "metadata": {
        "colab": {
          "base_uri": "https://localhost:8080/"
        },
        "id": "f7qmMnB1aZCD",
        "outputId": "4f23537f-6a2c-4710-af46-2ef8ad52b2ca"
      },
      "execution_count": 67,
      "outputs": [
        {
          "output_type": "stream",
          "name": "stdout",
          "text": [
            "Model: \"sequential_1\"\n",
            "_________________________________________________________________\n",
            " Layer (type)                Output Shape              Param #   \n",
            "=================================================================\n",
            " embedding_1 (Embedding)     (None, 100, 100)          9254700   \n",
            "                                                                 \n",
            " bidirectional (Bidirectiona  (None, 100, 200)         160800    \n",
            " l)                                                              \n",
            "                                                                 \n",
            " bidirectional_1 (Bidirectio  (None, 100, 200)         240800    \n",
            " nal)                                                            \n",
            "                                                                 \n",
            " conv1d_4 (Conv1D)           (None, 96, 100)           100100    \n",
            "                                                                 \n",
            " global_max_pooling1d (Globa  (None, 100)              0         \n",
            " lMaxPooling1D)                                                  \n",
            "                                                                 \n",
            " dense_1 (Dense)             (None, 16)                1616      \n",
            "                                                                 \n",
            " dense_2 (Dense)             (None, 1)                 17        \n",
            "                                                                 \n",
            "=================================================================\n",
            "Total params: 9,758,033\n",
            "Trainable params: 503,333\n",
            "Non-trainable params: 9,254,700\n",
            "_________________________________________________________________\n"
          ]
        }
      ]
    },
    {
      "cell_type": "code",
      "source": [
        "history = model1.fit(X_train, y_train, epochs= 10,\n",
        "                    batch_size = 128, verbose = 1,\n",
        "                   validation_split = 0.2)"
      ],
      "metadata": {
        "colab": {
          "base_uri": "https://localhost:8080/"
        },
        "id": "elOb6YAgad--",
        "outputId": "38f84461-5866-4d8e-87de-02fda32cb4a4"
      },
      "execution_count": 68,
      "outputs": [
        {
          "output_type": "stream",
          "name": "stdout",
          "text": [
            "Epoch 1/20\n",
            "250/250 [==============================] - 18s 45ms/step - loss: 0.5591 - acc: 0.6903 - val_loss: 0.5077 - val_acc: 0.7541\n",
            "Epoch 2/20\n",
            "250/250 [==============================] - 10s 39ms/step - loss: 0.4473 - acc: 0.7876 - val_loss: 0.3998 - val_acc: 0.8191\n",
            "Epoch 3/20\n",
            "250/250 [==============================] - 10s 39ms/step - loss: 0.4059 - acc: 0.8152 - val_loss: 0.3632 - val_acc: 0.8382\n",
            "Epoch 4/20\n",
            "250/250 [==============================] - 10s 39ms/step - loss: 0.3833 - acc: 0.8257 - val_loss: 0.3507 - val_acc: 0.8378\n",
            "Epoch 5/20\n",
            "250/250 [==============================] - 10s 39ms/step - loss: 0.3673 - acc: 0.8359 - val_loss: 0.3438 - val_acc: 0.8469\n",
            "Epoch 6/20\n",
            "250/250 [==============================] - 10s 38ms/step - loss: 0.3492 - acc: 0.8444 - val_loss: 0.3567 - val_acc: 0.8379\n",
            "Epoch 7/20\n",
            "250/250 [==============================] - 10s 38ms/step - loss: 0.3344 - acc: 0.8523 - val_loss: 0.3292 - val_acc: 0.8539\n",
            "Epoch 8/20\n",
            "250/250 [==============================] - 10s 38ms/step - loss: 0.3190 - acc: 0.8599 - val_loss: 0.3195 - val_acc: 0.8600\n",
            "Epoch 9/20\n",
            "250/250 [==============================] - 10s 38ms/step - loss: 0.3086 - acc: 0.8651 - val_loss: 0.3953 - val_acc: 0.8321\n",
            "Epoch 10/20\n",
            "250/250 [==============================] - 10s 38ms/step - loss: 0.2944 - acc: 0.8720 - val_loss: 0.3442 - val_acc: 0.8543\n",
            "Epoch 11/20\n",
            "250/250 [==============================] - 10s 38ms/step - loss: 0.2899 - acc: 0.8748 - val_loss: 0.3247 - val_acc: 0.8670\n",
            "Epoch 12/20\n",
            "250/250 [==============================] - 10s 39ms/step - loss: 0.2708 - acc: 0.8849 - val_loss: 0.3082 - val_acc: 0.8680\n",
            "Epoch 13/20\n",
            "250/250 [==============================] - 10s 38ms/step - loss: 0.2686 - acc: 0.8834 - val_loss: 0.3151 - val_acc: 0.8702\n",
            "Epoch 14/20\n",
            "250/250 [==============================] - 10s 38ms/step - loss: 0.2548 - acc: 0.8921 - val_loss: 0.3427 - val_acc: 0.8643\n",
            "Epoch 15/20\n",
            "250/250 [==============================] - 10s 38ms/step - loss: 0.2458 - acc: 0.8948 - val_loss: 0.3344 - val_acc: 0.8679\n",
            "Epoch 16/20\n",
            "250/250 [==============================] - 10s 38ms/step - loss: 0.2332 - acc: 0.9009 - val_loss: 0.3236 - val_acc: 0.8712\n",
            "Epoch 17/20\n",
            "250/250 [==============================] - 9s 38ms/step - loss: 0.2243 - acc: 0.9062 - val_loss: 0.3606 - val_acc: 0.8586\n",
            "Epoch 18/20\n",
            "250/250 [==============================] - 10s 38ms/step - loss: 0.2122 - acc: 0.9122 - val_loss: 0.3319 - val_acc: 0.8685\n",
            "Epoch 19/20\n",
            "250/250 [==============================] - 10s 38ms/step - loss: 0.2068 - acc: 0.9136 - val_loss: 0.3364 - val_acc: 0.8710\n",
            "Epoch 20/20\n",
            "250/250 [==============================] - 10s 38ms/step - loss: 0.1975 - acc: 0.9167 - val_loss: 0.3661 - val_acc: 0.8721\n"
          ]
        }
      ]
    },
    {
      "cell_type": "code",
      "source": [
        "score = model1.evaluate(X_test, y_test, verbose = 1)"
      ],
      "metadata": {
        "colab": {
          "base_uri": "https://localhost:8080/"
        },
        "id": "NMTMaYNka9Od",
        "outputId": "4ee1dcc8-07d9-4fe6-c904-d4f8dda23d88"
      },
      "execution_count": 69,
      "outputs": [
        {
          "output_type": "stream",
          "name": "stdout",
          "text": [
            "313/313 [==============================] - 3s 10ms/step - loss: 0.3578 - acc: 0.8700\n"
          ]
        }
      ]
    },
    {
      "cell_type": "code",
      "source": [
        "#y_pred = model.predict_classes(X_test)\n",
        "y_pred = (model1.predict(X_test) > 0.5).astype(\"int32\")\n",
        "\n",
        "y_pred\n",
        "\n",
        "# printing the classification\n",
        "\n",
        "print(classification_report(y_test, y_pred))"
      ],
      "metadata": {
        "colab": {
          "base_uri": "https://localhost:8080/"
        },
        "id": "zw4prjh9a_um",
        "outputId": "6bd27ea1-8ec7-4498-f9dc-78763ab7cdf7"
      },
      "execution_count": 70,
      "outputs": [
        {
          "output_type": "stream",
          "name": "stdout",
          "text": [
            "313/313 [==============================] - 4s 8ms/step\n",
            "              precision    recall  f1-score   support\n",
            "\n",
            "           0       0.88      0.86      0.87      4961\n",
            "           1       0.86      0.88      0.87      5039\n",
            "\n",
            "    accuracy                           0.87     10000\n",
            "   macro avg       0.87      0.87      0.87     10000\n",
            "weighted avg       0.87      0.87      0.87     10000\n",
            "\n"
          ]
        }
      ]
    },
    {
      "cell_type": "code",
      "source": [
        "print(\"Test Score:\", score[0])\n",
        "print(\"Test Accuracy:\", score[1])"
      ],
      "metadata": {
        "colab": {
          "base_uri": "https://localhost:8080/"
        },
        "id": "vnHmjblzw5pW",
        "outputId": "7d96e4bb-58db-49e7-8688-77ab03aae247"
      },
      "execution_count": 71,
      "outputs": [
        {
          "output_type": "stream",
          "name": "stdout",
          "text": [
            "Test Score: 0.35779961943626404\n",
            "Test Accuracy: 0.8700000047683716\n"
          ]
        }
      ]
    },
    {
      "cell_type": "code",
      "source": [
        "movie.to_csv('drive/MyDrive/IMDBDataset/movies.csv')"
      ],
      "metadata": {
        "id": "fP15wroPye_x"
      },
      "execution_count": 72,
      "outputs": []
    },
    {
      "cell_type": "code",
      "source": [
        "from sklearn.metrics import roc_auc_score"
      ],
      "metadata": {
        "id": "e7BpZQOtyeQB"
      },
      "execution_count": 73,
      "outputs": []
    },
    {
      "cell_type": "code",
      "source": [
        "auc = roc_auc_score(y_test, y_pred)"
      ],
      "metadata": {
        "id": "ODXN-WRl13BS"
      },
      "execution_count": 74,
      "outputs": []
    },
    {
      "cell_type": "code",
      "source": [
        "auc"
      ],
      "metadata": {
        "colab": {
          "base_uri": "https://localhost:8080/"
        },
        "id": "9f9ZaJ4d19cZ",
        "outputId": "45472c36-4d42-4be1-faf4-866394f604be"
      },
      "execution_count": 75,
      "outputs": [
        {
          "output_type": "execute_result",
          "data": {
            "text/plain": [
              "0.869921886047547"
            ]
          },
          "metadata": {},
          "execution_count": 75
        }
      ]
    }
  ]
}